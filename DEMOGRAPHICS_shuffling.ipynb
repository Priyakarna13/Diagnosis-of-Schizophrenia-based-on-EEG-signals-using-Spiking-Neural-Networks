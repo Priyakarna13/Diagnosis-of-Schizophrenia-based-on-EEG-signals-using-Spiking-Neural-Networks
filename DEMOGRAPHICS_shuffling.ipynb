{
  "nbformat": 4,
  "nbformat_minor": 0,
  "metadata": {
    "colab": {
      "provenance": []
    },
    "kernelspec": {
      "name": "python3",
      "display_name": "Python 3"
    },
    "language_info": {
      "name": "python"
    }
  },
  "cells": [
    {
      "cell_type": "code",
      "source": [
        "from google.colab import drive\n",
        "drive.mount('/content/drive')"
      ],
      "metadata": {
        "colab": {
          "base_uri": "https://localhost:8080/"
        },
        "id": "fIj_pWGoVCOW",
        "outputId": "b6967633-3dcc-48fb-cf69-b5036865574c"
      },
      "execution_count": null,
      "outputs": [
        {
          "output_type": "stream",
          "name": "stdout",
          "text": [
            "Drive already mounted at /content/drive; to attempt to forcibly remount, call drive.mount(\"/content/drive\", force_remount=True).\n"
          ]
        }
      ]
    },
    {
      "cell_type": "code",
      "execution_count": null,
      "metadata": {
        "id": "EG4gQ8zpU9jZ",
        "colab": {
          "base_uri": "https://localhost:8080/"
        },
        "outputId": "35c7d2c8-04a4-41a8-8427-7f77d78a1ae5"
      },
      "outputs": [
        {
          "output_type": "stream",
          "name": "stdout",
          "text": [
            "Index(['subject', ' group', ' gender', ' age', ' education'], dtype='object')\n",
            "1/1 [==============================] - 0s 75ms/step\n",
            "Accuracy: 0.8235294117647058\n",
            "Confusion matrix:\n",
            "[[ 3  3]\n",
            " [ 0 11]]\n"
          ]
        }
      ],
      "source": [
        "import pandas as pd\n",
        "import numpy as np\n",
        "import tensorflow as tf\n",
        "from sklearn.preprocessing import StandardScaler\n",
        "from sklearn.preprocessing import LabelEncoder\n",
        "from sklearn.model_selection import train_test_split\n",
        "from sklearn.metrics import accuracy_score, confusion_matrix\n",
        "\n",
        "# Load the CSV file into a pandas dataframe\n",
        "df = pd.read_csv('/content/drive/MyDrive/DATASETS/Copyofdemographic.csv')\n",
        "print(df.keys())\n",
        "\n",
        "# Preprocess the data\n",
        "# Convert categorical variable to numerical using LabelEncoder\n",
        "le = LabelEncoder()\n",
        "df[' gender'] = le.fit_transform(df[' gender'])\n",
        "\n",
        "# Scale the numerical features using StandardScaler\n",
        "scaler = StandardScaler()\n",
        "df[[' age', ' education']] = scaler.fit_transform(df[[' age', ' education']])\n",
        "\n",
        "# Separate the data into schizophrenia and non-schizophrenia groups\n",
        "df_schizophrenia = df[df[' group'] == 1]\n",
        "df_non_schizophrenia = df[df[' group'] == 0]\n",
        "\n",
        "# Create the input and output data for the ANN model\n",
        "# The input data consists of the age and education features\n",
        "# The output data consists of a binary variable indicating schizophrenia diagnosis\n",
        "X = df[[' age', ' education']].to_numpy()\n",
        "y = df[' group'].to_numpy()\n",
        "\n",
        "# Split the data into training and testing sets\n",
        "X_train, X_test, y_train, y_test = train_test_split(X, y, test_size=0.2, random_state=42)\n",
        "\n",
        "# Define the ANN model\n",
        "model = tf.keras.models.Sequential([\n",
        "    tf.keras.layers.Dense(64, activation='relu', input_shape=(2,)),\n",
        "    tf.keras.layers.Dense(32, activation='relu'),\n",
        "    tf.keras.layers.Dense(1, activation='sigmoid')\n",
        "])\n",
        "\n",
        "# Compile the model\n",
        "model.compile(optimizer='adam', loss='binary_crossentropy', metrics=['accuracy'])\n",
        "\n",
        "# Train the model\n",
        "model.fit(X_train, y_train, epochs=100, batch_size=64, verbose=0)\n",
        "\n",
        "# Evaluate the model on the test set\n",
        "y_pred = model.predict(X_test)\n",
        "y_pred = (y_pred > 0.5).astype(int)\n",
        "accuracy = accuracy_score(y_test, y_pred)\n",
        "confusion = confusion_matrix(y_test, y_pred)\n",
        "\n",
        "# Print the results\n",
        "print(f\"Accuracy: {accuracy}\")\n",
        "print(f\"Confusion matrix:\\n{confusion}\")"
      ]
    }
  ]
}