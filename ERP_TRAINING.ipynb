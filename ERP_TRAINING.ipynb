{
  "nbformat": 4,
  "nbformat_minor": 0,
  "metadata": {
    "colab": {
      "provenance": []
    },
    "kernelspec": {
      "name": "python3",
      "display_name": "Python 3"
    },
    "language_info": {
      "name": "python"
    },
    "accelerator": "GPU",
    "gpuClass": "standard"
  },
  "cells": [
    {
      "cell_type": "code",
      "execution_count": null,
      "metadata": {
        "id": "yxEsGeDm0lii",
        "colab": {
          "base_uri": "https://localhost:8080/"
        },
        "outputId": "60f60d6b-630d-4e3e-cee6-477107d7a605"
      },
      "outputs": [
        {
          "output_type": "stream",
          "name": "stdout",
          "text": [
            "Looking in indexes: https://pypi.org/simple, https://us-python.pkg.dev/colab-wheels/public/simple/\n",
            "Collecting snntorch\n",
            "  Downloading snntorch-0.6.2-py2.py3-none-any.whl (104 kB)\n",
            "\u001b[2K     \u001b[90m━━━━━━━━━━━━━━━━━━━━━━━━━━━━━━━━━━━━━━━\u001b[0m \u001b[32m104.7/104.7 kB\u001b[0m \u001b[31m4.4 MB/s\u001b[0m eta \u001b[36m0:00:00\u001b[0m\n",
            "\u001b[?25hRequirement already satisfied: torch>=1.1.0 in /usr/local/lib/python3.10/dist-packages (from snntorch) (2.0.1+cu118)\n",
            "Requirement already satisfied: pandas in /usr/local/lib/python3.10/dist-packages (from snntorch) (1.5.3)\n",
            "Requirement already satisfied: matplotlib in /usr/local/lib/python3.10/dist-packages (from snntorch) (3.7.1)\n",
            "Requirement already satisfied: numpy>=1.17 in /usr/local/lib/python3.10/dist-packages (from snntorch) (1.22.4)\n",
            "Requirement already satisfied: filelock in /usr/local/lib/python3.10/dist-packages (from torch>=1.1.0->snntorch) (3.12.0)\n",
            "Requirement already satisfied: typing-extensions in /usr/local/lib/python3.10/dist-packages (from torch>=1.1.0->snntorch) (4.5.0)\n",
            "Requirement already satisfied: sympy in /usr/local/lib/python3.10/dist-packages (from torch>=1.1.0->snntorch) (1.11.1)\n",
            "Requirement already satisfied: networkx in /usr/local/lib/python3.10/dist-packages (from torch>=1.1.0->snntorch) (3.1)\n",
            "Requirement already satisfied: jinja2 in /usr/local/lib/python3.10/dist-packages (from torch>=1.1.0->snntorch) (3.1.2)\n",
            "Requirement already satisfied: triton==2.0.0 in /usr/local/lib/python3.10/dist-packages (from torch>=1.1.0->snntorch) (2.0.0)\n",
            "Requirement already satisfied: cmake in /usr/local/lib/python3.10/dist-packages (from triton==2.0.0->torch>=1.1.0->snntorch) (3.25.2)\n",
            "Requirement already satisfied: lit in /usr/local/lib/python3.10/dist-packages (from triton==2.0.0->torch>=1.1.0->snntorch) (16.0.5)\n",
            "Requirement already satisfied: contourpy>=1.0.1 in /usr/local/lib/python3.10/dist-packages (from matplotlib->snntorch) (1.0.7)\n",
            "Requirement already satisfied: cycler>=0.10 in /usr/local/lib/python3.10/dist-packages (from matplotlib->snntorch) (0.11.0)\n",
            "Requirement already satisfied: fonttools>=4.22.0 in /usr/local/lib/python3.10/dist-packages (from matplotlib->snntorch) (4.39.3)\n",
            "Requirement already satisfied: kiwisolver>=1.0.1 in /usr/local/lib/python3.10/dist-packages (from matplotlib->snntorch) (1.4.4)\n",
            "Requirement already satisfied: packaging>=20.0 in /usr/local/lib/python3.10/dist-packages (from matplotlib->snntorch) (23.1)\n",
            "Requirement already satisfied: pillow>=6.2.0 in /usr/local/lib/python3.10/dist-packages (from matplotlib->snntorch) (8.4.0)\n",
            "Requirement already satisfied: pyparsing>=2.3.1 in /usr/local/lib/python3.10/dist-packages (from matplotlib->snntorch) (3.0.9)\n",
            "Requirement already satisfied: python-dateutil>=2.7 in /usr/local/lib/python3.10/dist-packages (from matplotlib->snntorch) (2.8.2)\n",
            "Requirement already satisfied: pytz>=2020.1 in /usr/local/lib/python3.10/dist-packages (from pandas->snntorch) (2022.7.1)\n",
            "Requirement already satisfied: six>=1.5 in /usr/local/lib/python3.10/dist-packages (from python-dateutil>=2.7->matplotlib->snntorch) (1.16.0)\n",
            "Requirement already satisfied: MarkupSafe>=2.0 in /usr/local/lib/python3.10/dist-packages (from jinja2->torch>=1.1.0->snntorch) (2.1.2)\n",
            "Requirement already satisfied: mpmath>=0.19 in /usr/local/lib/python3.10/dist-packages (from sympy->torch>=1.1.0->snntorch) (1.3.0)\n",
            "Installing collected packages: snntorch\n",
            "Successfully installed snntorch-0.6.2\n"
          ]
        },
        {
          "output_type": "stream",
          "name": "stderr",
          "text": [
            "<ipython-input-10-3a237a213cb5>:24: DeprecationWarning: The module snntorch.backprop will be deprecated in  a future release. Writing out your own training loop will lead to substantially faster performance.\n",
            "  from snntorch import backprop\n"
          ]
        }
      ],
      "source": [
        "import pandas as pd\n",
        "import numpy as np\n",
        "import matplotlib.pyplot as plt\n",
        "import seaborn as sns\n",
        "\n",
        "import torch\n",
        "import torch.nn as nn\n",
        "import torch.nn.functional as F\n",
        "from torch.nn.functional import normalize\n",
        "from PIL import Image as im\n",
        "\n",
        "import glob\n",
        "import cv2\n",
        "import numpy as np\n",
        "import torch\n",
        "from torch.utils.data import Dataset, DataLoader\n",
        "import torchvision.transforms.functional as TF\n",
        "\n",
        "!pip install snntorch\n",
        "\n",
        "# imports\n",
        "import snntorch as snn\n",
        "from snntorch import surrogate\n",
        "from snntorch import backprop\n",
        "from snntorch import functional as SF\n",
        "from snntorch import utils\n",
        "from snntorch import spikeplot as splt\n",
        "\n",
        "import torch\n",
        "import torch.nn as nn\n",
        "from torch.utils.data import DataLoader\n",
        "from torchvision import datasets, transforms\n",
        "import torch.nn.functional as F\n",
        "\n",
        "import matplotlib.pyplot as plt\n",
        "import numpy as np\n",
        "import itertools\n",
        "device = \"cpu\"\n"
      ]
    },
    {
      "cell_type": "code",
      "source": [
        "from google.colab import drive\n",
        "drive.mount('/content/drive')"
      ],
      "metadata": {
        "colab": {
          "base_uri": "https://localhost:8080/"
        },
        "id": "ngXH4N3K2gi4",
        "outputId": "c0aa542a-0a14-4b51-f7b9-12f702300212"
      },
      "execution_count": null,
      "outputs": [
        {
          "output_type": "stream",
          "name": "stdout",
          "text": [
            "Mounted at /content/drive\n"
          ]
        }
      ]
    },
    {
      "cell_type": "code",
      "source": [
        "df=pd.read_csv('/content/drive/MyDrive/ERPdata.csv')"
      ],
      "metadata": {
        "id": "5rgeXFTG3cPf"
      },
      "execution_count": null,
      "outputs": []
    },
    {
      "cell_type": "code",
      "source": [
        "meta_df=pd.read_csv('/content/drive/MyDrive/demographic.csv')"
      ],
      "metadata": {
        "id": "tv2oLNwe8EJZ"
      },
      "execution_count": null,
      "outputs": []
    },
    {
      "cell_type": "code",
      "source": [
        "df.head(3)"
      ],
      "metadata": {
        "colab": {
          "base_uri": "https://localhost:8080/",
          "height": 143
        },
        "id": "_ZxDwMyzpVTN",
        "outputId": "ce0d3a0f-4e7e-4a57-a63e-db3e54348552"
      },
      "execution_count": null,
      "outputs": [
        {
          "output_type": "execute_result",
          "data": {
            "text/plain": [
              "   subject  condition        Fz       FCz        Cz       FC3       FC4  \\\n",
              "0        1          1  5.533701  5.726507  5.469535  5.386723  4.588875   \n",
              "1        1          1  5.651489  5.837326  5.773131  5.627975  4.822217   \n",
              "2        1          1  5.717580  5.932924  5.948466  5.826460  4.979647   \n",
              "\n",
              "         C3        C4       CP3       CP4    time_ms  \n",
              "0  6.560092  4.542811  5.397492  5.103695 -1500.0000  \n",
              "1  6.739976  4.811770  5.541357  5.379273 -1499.0234  \n",
              "2  7.026199  5.053779  5.634972  5.600504 -1498.0469  "
            ],
            "text/html": [
              "\n",
              "  <div id=\"df-4932adef-1677-4adf-8450-78269044c381\">\n",
              "    <div class=\"colab-df-container\">\n",
              "      <div>\n",
              "<style scoped>\n",
              "    .dataframe tbody tr th:only-of-type {\n",
              "        vertical-align: middle;\n",
              "    }\n",
              "\n",
              "    .dataframe tbody tr th {\n",
              "        vertical-align: top;\n",
              "    }\n",
              "\n",
              "    .dataframe thead th {\n",
              "        text-align: right;\n",
              "    }\n",
              "</style>\n",
              "<table border=\"1\" class=\"dataframe\">\n",
              "  <thead>\n",
              "    <tr style=\"text-align: right;\">\n",
              "      <th></th>\n",
              "      <th>subject</th>\n",
              "      <th>condition</th>\n",
              "      <th>Fz</th>\n",
              "      <th>FCz</th>\n",
              "      <th>Cz</th>\n",
              "      <th>FC3</th>\n",
              "      <th>FC4</th>\n",
              "      <th>C3</th>\n",
              "      <th>C4</th>\n",
              "      <th>CP3</th>\n",
              "      <th>CP4</th>\n",
              "      <th>time_ms</th>\n",
              "    </tr>\n",
              "  </thead>\n",
              "  <tbody>\n",
              "    <tr>\n",
              "      <th>0</th>\n",
              "      <td>1</td>\n",
              "      <td>1</td>\n",
              "      <td>5.533701</td>\n",
              "      <td>5.726507</td>\n",
              "      <td>5.469535</td>\n",
              "      <td>5.386723</td>\n",
              "      <td>4.588875</td>\n",
              "      <td>6.560092</td>\n",
              "      <td>4.542811</td>\n",
              "      <td>5.397492</td>\n",
              "      <td>5.103695</td>\n",
              "      <td>-1500.0000</td>\n",
              "    </tr>\n",
              "    <tr>\n",
              "      <th>1</th>\n",
              "      <td>1</td>\n",
              "      <td>1</td>\n",
              "      <td>5.651489</td>\n",
              "      <td>5.837326</td>\n",
              "      <td>5.773131</td>\n",
              "      <td>5.627975</td>\n",
              "      <td>4.822217</td>\n",
              "      <td>6.739976</td>\n",
              "      <td>4.811770</td>\n",
              "      <td>5.541357</td>\n",
              "      <td>5.379273</td>\n",
              "      <td>-1499.0234</td>\n",
              "    </tr>\n",
              "    <tr>\n",
              "      <th>2</th>\n",
              "      <td>1</td>\n",
              "      <td>1</td>\n",
              "      <td>5.717580</td>\n",
              "      <td>5.932924</td>\n",
              "      <td>5.948466</td>\n",
              "      <td>5.826460</td>\n",
              "      <td>4.979647</td>\n",
              "      <td>7.026199</td>\n",
              "      <td>5.053779</td>\n",
              "      <td>5.634972</td>\n",
              "      <td>5.600504</td>\n",
              "      <td>-1498.0469</td>\n",
              "    </tr>\n",
              "  </tbody>\n",
              "</table>\n",
              "</div>\n",
              "      <button class=\"colab-df-convert\" onclick=\"convertToInteractive('df-4932adef-1677-4adf-8450-78269044c381')\"\n",
              "              title=\"Convert this dataframe to an interactive table.\"\n",
              "              style=\"display:none;\">\n",
              "        \n",
              "  <svg xmlns=\"http://www.w3.org/2000/svg\" height=\"24px\"viewBox=\"0 0 24 24\"\n",
              "       width=\"24px\">\n",
              "    <path d=\"M0 0h24v24H0V0z\" fill=\"none\"/>\n",
              "    <path d=\"M18.56 5.44l.94 2.06.94-2.06 2.06-.94-2.06-.94-.94-2.06-.94 2.06-2.06.94zm-11 1L8.5 8.5l.94-2.06 2.06-.94-2.06-.94L8.5 2.5l-.94 2.06-2.06.94zm10 10l.94 2.06.94-2.06 2.06-.94-2.06-.94-.94-2.06-.94 2.06-2.06.94z\"/><path d=\"M17.41 7.96l-1.37-1.37c-.4-.4-.92-.59-1.43-.59-.52 0-1.04.2-1.43.59L10.3 9.45l-7.72 7.72c-.78.78-.78 2.05 0 2.83L4 21.41c.39.39.9.59 1.41.59.51 0 1.02-.2 1.41-.59l7.78-7.78 2.81-2.81c.8-.78.8-2.07 0-2.86zM5.41 20L4 18.59l7.72-7.72 1.47 1.35L5.41 20z\"/>\n",
              "  </svg>\n",
              "      </button>\n",
              "      \n",
              "  <style>\n",
              "    .colab-df-container {\n",
              "      display:flex;\n",
              "      flex-wrap:wrap;\n",
              "      gap: 12px;\n",
              "    }\n",
              "\n",
              "    .colab-df-convert {\n",
              "      background-color: #E8F0FE;\n",
              "      border: none;\n",
              "      border-radius: 50%;\n",
              "      cursor: pointer;\n",
              "      display: none;\n",
              "      fill: #1967D2;\n",
              "      height: 32px;\n",
              "      padding: 0 0 0 0;\n",
              "      width: 32px;\n",
              "    }\n",
              "\n",
              "    .colab-df-convert:hover {\n",
              "      background-color: #E2EBFA;\n",
              "      box-shadow: 0px 1px 2px rgba(60, 64, 67, 0.3), 0px 1px 3px 1px rgba(60, 64, 67, 0.15);\n",
              "      fill: #174EA6;\n",
              "    }\n",
              "\n",
              "    [theme=dark] .colab-df-convert {\n",
              "      background-color: #3B4455;\n",
              "      fill: #D2E3FC;\n",
              "    }\n",
              "\n",
              "    [theme=dark] .colab-df-convert:hover {\n",
              "      background-color: #434B5C;\n",
              "      box-shadow: 0px 1px 3px 1px rgba(0, 0, 0, 0.15);\n",
              "      filter: drop-shadow(0px 1px 2px rgba(0, 0, 0, 0.3));\n",
              "      fill: #FFFFFF;\n",
              "    }\n",
              "  </style>\n",
              "\n",
              "      <script>\n",
              "        const buttonEl =\n",
              "          document.querySelector('#df-4932adef-1677-4adf-8450-78269044c381 button.colab-df-convert');\n",
              "        buttonEl.style.display =\n",
              "          google.colab.kernel.accessAllowed ? 'block' : 'none';\n",
              "\n",
              "        async function convertToInteractive(key) {\n",
              "          const element = document.querySelector('#df-4932adef-1677-4adf-8450-78269044c381');\n",
              "          const dataTable =\n",
              "            await google.colab.kernel.invokeFunction('convertToInteractive',\n",
              "                                                     [key], {});\n",
              "          if (!dataTable) return;\n",
              "\n",
              "          const docLinkHtml = 'Like what you see? Visit the ' +\n",
              "            '<a target=\"_blank\" href=https://colab.research.google.com/notebooks/data_table.ipynb>data table notebook</a>'\n",
              "            + ' to learn more about interactive tables.';\n",
              "          element.innerHTML = '';\n",
              "          dataTable['output_type'] = 'display_data';\n",
              "          await google.colab.output.renderOutput(dataTable, element);\n",
              "          const docLink = document.createElement('div');\n",
              "          docLink.innerHTML = docLinkHtml;\n",
              "          element.appendChild(docLink);\n",
              "        }\n",
              "      </script>\n",
              "    </div>\n",
              "  </div>\n",
              "  "
            ]
          },
          "metadata": {},
          "execution_count": 5
        }
      ]
    },
    {
      "cell_type": "code",
      "source": [],
      "metadata": {
        "id": "74Grg1ks1gqX"
      },
      "execution_count": null,
      "outputs": []
    },
    {
      "cell_type": "code",
      "source": [
        "# Device configuration\n",
        "device = torch.device('cuda' if torch.cuda.is_available() else 'cpu')\n",
        "device"
      ],
      "metadata": {
        "colab": {
          "base_uri": "https://localhost:8080/"
        },
        "id": "1hJ58hY5weHD",
        "outputId": "489ecd70-138c-4323-9b50-68e9b2108515"
      },
      "execution_count": null,
      "outputs": [
        {
          "output_type": "execute_result",
          "data": {
            "text/plain": [
              "device(type='cuda')"
            ]
          },
          "metadata": {},
          "execution_count": 7
        }
      ]
    },
    {
      "cell_type": "markdown",
      "source": [
        "## DATA PREPROCESSING\n",
        "\n",
        "a. EEG Time series data pre-processing"
      ],
      "metadata": {
        "id": "9HvdmOTgiOYH"
      }
    },
    {
      "cell_type": "code",
      "source": [
        "data_dict = {}\n",
        "data_list = []\n",
        "for i in range(1,82):\n",
        "    if i==1 or i==6 or i==16 or i==27:\n",
        "        continue\n",
        "    df_sub = df[df['subject'] == i]\n",
        "    for j in range(1,4):\n",
        "        df_subcon = df_sub[df_sub['condition'] == j]\n",
        "        df_subcon = df_subcon.drop(['subject','condition','time_ms'],axis=1)\n",
        "        record = df_subcon.to_numpy()\n",
        "        record = np.transpose(record)\n",
        "\n",
        "        record_name = str(i)+str(j)\n",
        "        data_dict[record_name] = record\n",
        "    \n",
        "        record = record.tolist()\n",
        "#         if i==2 and j==1:\n",
        "#             print(len(record))\n",
        "        dummy = []\n",
        "        dummy.append(record)\n",
        "        data_list.append(dummy)\n",
        "\n",
        "c = 0\n",
        "for key in data_dict.keys():\n",
        "    c += 1\n",
        "    #print(data_dict[key].shape)\n",
        "print(c)\n",
        "\n",
        "c = 0\n",
        "for data in data_list:\n",
        "    c += 1\n",
        "    #print(len(data))\n",
        "print(c)"
      ],
      "metadata": {
        "colab": {
          "base_uri": "https://localhost:8080/"
        },
        "id": "MzkazrN1995N",
        "outputId": "90a53994-34b9-4c2a-bc63-286f27677375"
      },
      "execution_count": null,
      "outputs": [
        {
          "output_type": "stream",
          "name": "stdout",
          "text": [
            "231\n",
            "231\n"
          ]
        }
      ]
    },
    {
      "cell_type": "code",
      "source": [
        "labels = []\n",
        "device = \"cpu\"\n",
        "\n",
        "for i,x in enumerate(meta_df[' group'].tolist()):\n",
        "    if i==1 or i==6 or i==16 or i==27:\n",
        "        continue\n",
        "    labels.append(x)\n",
        "    labels.append(x)\n",
        "    labels.append(x)\n",
        "X = torch.Tensor(data_list).to(device)\n",
        "y = torch.Tensor(labels).to(device)\n",
        "import torch.nn.functional as F\n",
        "y = F.one_hot(y.to(torch.int64), num_classes=2)\n",
        "\n",
        "# from sklearn.model_selection import train_test_split\n",
        "# X_train, X_test, y_train, y_test = train_test_split(X, y, test_size=0.2, random_state=42, shuffle = True)"
      ],
      "metadata": {
        "id": "mOwiAxPS-EFv"
      },
      "execution_count": null,
      "outputs": []
    },
    {
      "cell_type": "code",
      "source": [
        "y[200][0] == 1"
      ],
      "metadata": {
        "colab": {
          "base_uri": "https://localhost:8080/"
        },
        "id": "KAZ5G9h7FNGG",
        "outputId": "f3b4d7b5-2cce-4a97-8249-acea1c714a8c"
      },
      "execution_count": null,
      "outputs": [
        {
          "output_type": "execute_result",
          "data": {
            "text/plain": [
              "tensor(False)"
            ]
          },
          "metadata": {},
          "execution_count": 9
        }
      ]
    },
    {
      "cell_type": "code",
      "source": [
        "X[0].shape"
      ],
      "metadata": {
        "colab": {
          "base_uri": "https://localhost:8080/"
        },
        "id": "ORlIUXL8Z_Ur",
        "outputId": "26396977-b097-4cf1-c663-461c22038ef0"
      },
      "execution_count": null,
      "outputs": [
        {
          "output_type": "execute_result",
          "data": {
            "text/plain": [
              "torch.Size([1, 9, 3072])"
            ]
          },
          "metadata": {},
          "execution_count": 158
        }
      ]
    },
    {
      "cell_type": "code",
      "source": [
        "\n",
        "for i in range(len(X)):\n",
        "    img = X[i]\n",
        "    img = np.reshape(img, (9, 3072))\n",
        "    img = (img - img.min() ) / ( img.max() - img.min()) * 255\n",
        "    # img = normalize(img, p=50)\n",
        "    # print(img.shape)\n",
        "    # print(img.min(),img.max())\n",
        "    # cv2.imwrite('test.jpg', img)\n",
        "    # cv2.imshow(\"image\", img)\n",
        "    # cv2.waitKey()\n",
        "    img = np.asarray(img)\n",
        "    data = im.fromarray(img).convert(\"L\")\n",
        "    if y[i][0] == 1:\n",
        "        data.save('/content/drive/MyDrive/ERP_imagedata/0/'+str(i)+'.jpeg')\n",
        "    else:\n",
        "        data.save('/content/drive/MyDrive/ERP_imagedata/1/'+str(i)+'.jpeg')\n"
      ],
      "metadata": {
        "id": "HQKtSCTXc2YJ"
      },
      "execution_count": null,
      "outputs": []
    },
    {
      "cell_type": "code",
      "source": [
        "img=im.open('/content/drive/MyDrive/ERP_imagedata/0/0.jpeg')\n",
        "img.show()"
      ],
      "metadata": {
        "colab": {
          "base_uri": "https://localhost:8080/",
          "height": 34
        },
        "id": "S5aZ7JIZBRZb",
        "outputId": "4627b009-0e93-4495-8878-ffa5ce042b47"
      },
      "execution_count": null,
      "outputs": [
        {
          "output_type": "display_data",
          "data": {
            "text/plain": [
              "<PIL.JpegImagePlugin.JpegImageFile image mode=L size=3072x9 at 0x7F55043382E0>"
            ],
            "image/png": "[encoded data removed]"
          },
          "metadata": {}
        }
      ]
    },
    {
      "cell_type": "code",
      "source": [],
      "metadata": {
        "id": "G-YpJdGnpQRH"
      },
      "execution_count": null,
      "outputs": []
    },
    {
      "cell_type": "markdown",
      "source": [
        "b. Demographics data pre-processing"
      ],
      "metadata": {
        "id": "zpxFde-jpgfZ"
      }
    },
    {
      "cell_type": "code",
      "source": [
        "import pandas as pd\n",
        "import numpy as np\n",
        "import tensorflow as tf\n",
        "from sklearn.preprocessing import StandardScaler\n",
        "from sklearn.preprocessing import LabelEncoder\n",
        "from sklearn.model_selection import train_test_split\n",
        "from sklearn.metrics import accuracy_score, confusion_matrix\n",
        "\n",
        "# Load the CSV file into a pandas dataframe\n",
        "df = pd.read_csv('/content/drive/MyDrive/demographic.csv')\n",
        "\n",
        "df = df[df['subject'] != 1]\n",
        "df = df[df['subject'] != 6]\n",
        "df = df[df['subject'] != 16]\n",
        "df = df[df['subject'] != 27]\n",
        "# print(df.head)\n",
        "\n",
        "# Preprocess the data\n",
        "# Convert categorical variable to numerical using LabelEncoder\n",
        "le = LabelEncoder()\n",
        "df[' gender'] = le.fit_transform(df[' gender'])\n",
        "\n",
        "# Scale the numerical features using StandardScaler\n",
        "scaler = StandardScaler()\n",
        "df[[' age', ' education']] = scaler.fit_transform(df[[' age', ' education']])\n",
        "\n",
        "# Separate the data into schizophrenia and non-schizophrenia groups\n",
        "df_schizophrenia = df[df[' group'] == 1]\n",
        "df_non_schizophrenia = df[df[' group'] == 0]\n",
        "\n",
        "# Create the input and output data for the ANN model\n",
        "# The input data consists of the age and education features\n",
        "# The output data consists of a binary variable indicating schizophrenia diagnosis\n",
        "X_demo = df[[' age', ' education', ' gender']].to_numpy()\n",
        "y_demo = df[' group'].to_numpy()\n",
        "\n",
        "# print(X_demo)"
      ],
      "metadata": {
        "id": "NWDWPH1ZpQUZ"
      },
      "execution_count": null,
      "outputs": []
    },
    {
      "cell_type": "markdown",
      "source": [
        "DATALOADER CREATION FOR TRAINING"
      ],
      "metadata": {
        "id": "X4VfOZi1cKvU"
      }
    },
    {
      "cell_type": "code",
      "source": [
        "class CustomDataset(Dataset):\n",
        "    def __init__(self):\n",
        "        self.imgs_path = \"/content/drive/MyDrive/ERP_imagedata/\"\n",
        "        file_list = glob.glob(self.imgs_path + \"*\")\n",
        "        print(file_list)\n",
        "        self.data = []\n",
        "        for class_path in file_list:\n",
        "            class_name = class_path.split(\"/\")[-1]\n",
        "            for img_path in glob.glob(class_path + \"/*.jpeg\"):\n",
        "                self.data.append([img_path, class_name])\n",
        "        print(self.data)\n",
        "        self.class_map = {\"0\" : 0, \"1\": 1}\n",
        "        self.img_dim = (9, 3072)    \n",
        "        \n",
        "    def __len__(self):\n",
        "        return len(self.data)    \n",
        "        \n",
        "    def __getitem__(self, idx):\n",
        "        img_path, class_name = self.data[idx]\n",
        "        img = cv2.imread(img_path)\n",
        "        img = cv2.resize(img, self.img_dim)\n",
        "        img = TF.to_tensor(img)\n",
        "        class_id = self.class_map[class_name]\n",
        "        # img_tensor = torch.from_numpy(img)\n",
        "        img_tensor = img\n",
        "        # img_tensor = TF.to_tensor(img_tensor)\n",
        "        img_tensor = img_tensor.permute(2, 0, 1)\n",
        "        class_id = torch.tensor([class_id])\n",
        "        X_train, X_test = img_tensor[:, 0.8*len(img_tensor)], img_tensor[0.8*len(img_tensor),:]\n",
        "        y_train, y_test = class_id[:, 0.8*len(img_tensor)], class_id[0.8*len(img_tensor),:]\n",
        "        return X_train, X_test, y_train, y_test"
      ],
      "metadata": {
        "id": "AL8V8zKsJ6X1"
      },
      "execution_count": null,
      "outputs": []
    },
    {
      "cell_type": "code",
      "source": [
        "dataset = CustomDataset()\n",
        "data_loader = DataLoader(dataset, batch_size=4, shuffle=True)"
      ],
      "metadata": {
        "colab": {
          "base_uri": "https://localhost:8080/"
        },
        "id": "sc969dHQJ6ai",
        "outputId": "41a6bc01-db5f-4e67-ddb2-791953e07e33"
      },
      "execution_count": null,
      "outputs": [
        {
          "output_type": "stream",
          "name": "stdout",
          "text": [
            "['/content/drive/MyDrive/ERP_imagedata/0', '/content/drive/MyDrive/ERP_imagedata/1']\n",
            "[['/content/drive/MyDrive/ERP_imagedata/0/0.jpeg', '0'], ['/content/drive/MyDrive/ERP_imagedata/0/1.jpeg', '0'], ['/content/drive/MyDrive/ERP_imagedata/0/2.jpeg', '0'], ['/content/drive/MyDrive/ERP_imagedata/0/3.jpeg', '0'], ['/content/drive/MyDrive/ERP_imagedata/0/4.jpeg', '0'], ['/content/drive/MyDrive/ERP_imagedata/0/5.jpeg', '0'], ['/content/drive/MyDrive/ERP_imagedata/0/6.jpeg', '0'], ['/content/drive/MyDrive/ERP_imagedata/0/7.jpeg', '0'], ['/content/drive/MyDrive/ERP_imagedata/0/8.jpeg', '0'], ['/content/drive/MyDrive/ERP_imagedata/0/9.jpeg', '0'], ['/content/drive/MyDrive/ERP_imagedata/0/10.jpeg', '0'], ['/content/drive/MyDrive/ERP_imagedata/0/11.jpeg', '0'], ['/content/drive/MyDrive/ERP_imagedata/0/12.jpeg', '0'], ['/content/drive/MyDrive/ERP_imagedata/0/13.jpeg', '0'], ['/content/drive/MyDrive/ERP_imagedata/0/14.jpeg', '0'], ['/content/drive/MyDrive/ERP_imagedata/0/15.jpeg', '0'], ['/content/drive/MyDrive/ERP_imagedata/0/16.jpeg', '0'], ['/content/drive/MyDrive/ERP_imagedata/0/17.jpeg', '0'], ['/content/drive/MyDrive/ERP_imagedata/0/18.jpeg', '0'], ['/content/drive/MyDrive/ERP_imagedata/0/19.jpeg', '0'], ['/content/drive/MyDrive/ERP_imagedata/0/20.jpeg', '0'], ['/content/drive/MyDrive/ERP_imagedata/0/21.jpeg', '0'], ['/content/drive/MyDrive/ERP_imagedata/0/22.jpeg', '0'], ['/content/drive/MyDrive/ERP_imagedata/0/23.jpeg', '0'], ['/content/drive/MyDrive/ERP_imagedata/0/24.jpeg', '0'], ['/content/drive/MyDrive/ERP_imagedata/0/25.jpeg', '0'], ['/content/drive/MyDrive/ERP_imagedata/0/26.jpeg', '0'], ['/content/drive/MyDrive/ERP_imagedata/0/27.jpeg', '0'], ['/content/drive/MyDrive/ERP_imagedata/0/28.jpeg', '0'], ['/content/drive/MyDrive/ERP_imagedata/0/29.jpeg', '0'], ['/content/drive/MyDrive/ERP_imagedata/0/30.jpeg', '0'], ['/content/drive/MyDrive/ERP_imagedata/0/31.jpeg', '0'], ['/content/drive/MyDrive/ERP_imagedata/0/32.jpeg', '0'], ['/content/drive/MyDrive/ERP_imagedata/0/33.jpeg', '0'], ['/content/drive/MyDrive/ERP_imagedata/0/34.jpeg', '0'], ['/content/drive/MyDrive/ERP_imagedata/0/35.jpeg', '0'], ['/content/drive/MyDrive/ERP_imagedata/0/36.jpeg', '0'], ['/content/drive/MyDrive/ERP_imagedata/0/37.jpeg', '0'], ['/content/drive/MyDrive/ERP_imagedata/0/38.jpeg', '0'], ['/content/drive/MyDrive/ERP_imagedata/0/39.jpeg', '0'], ['/content/drive/MyDrive/ERP_imagedata/0/40.jpeg', '0'], ['/content/drive/MyDrive/ERP_imagedata/0/41.jpeg', '0'], ['/content/drive/MyDrive/ERP_imagedata/0/42.jpeg', '0'], ['/content/drive/MyDrive/ERP_imagedata/0/43.jpeg', '0'], ['/content/drive/MyDrive/ERP_imagedata/0/44.jpeg', '0'], ['/content/drive/MyDrive/ERP_imagedata/0/45.jpeg', '0'], ['/content/drive/MyDrive/ERP_imagedata/0/46.jpeg', '0'], ['/content/drive/MyDrive/ERP_imagedata/0/47.jpeg', '0'], ['/content/drive/MyDrive/ERP_imagedata/0/48.jpeg', '0'], ['/content/drive/MyDrive/ERP_imagedata/0/49.jpeg', '0'], ['/content/drive/MyDrive/ERP_imagedata/0/50.jpeg', '0'], ['/content/drive/MyDrive/ERP_imagedata/0/51.jpeg', '0'], ['/content/drive/MyDrive/ERP_imagedata/0/52.jpeg', '0'], ['/content/drive/MyDrive/ERP_imagedata/0/53.jpeg', '0'], ['/content/drive/MyDrive/ERP_imagedata/0/54.jpeg', '0'], ['/content/drive/MyDrive/ERP_imagedata/0/55.jpeg', '0'], ['/content/drive/MyDrive/ERP_imagedata/0/56.jpeg', '0'], ['/content/drive/MyDrive/ERP_imagedata/0/57.jpeg', '0'], ['/content/drive/MyDrive/ERP_imagedata/0/58.jpeg', '0'], ['/content/drive/MyDrive/ERP_imagedata/0/59.jpeg', '0'], ['/content/drive/MyDrive/ERP_imagedata/0/60.jpeg', '0'], ['/content/drive/MyDrive/ERP_imagedata/0/61.jpeg', '0'], ['/content/drive/MyDrive/ERP_imagedata/0/62.jpeg', '0'], ['/content/drive/MyDrive/ERP_imagedata/0/162.jpeg', '0'], ['/content/drive/MyDrive/ERP_imagedata/0/163.jpeg', '0'], ['/content/drive/MyDrive/ERP_imagedata/0/164.jpeg', '0'], ['/content/drive/MyDrive/ERP_imagedata/0/165.jpeg', '0'], ['/content/drive/MyDrive/ERP_imagedata/0/166.jpeg', '0'], ['/content/drive/MyDrive/ERP_imagedata/0/167.jpeg', '0'], ['/content/drive/MyDrive/ERP_imagedata/0/168.jpeg', '0'], ['/content/drive/MyDrive/ERP_imagedata/0/169.jpeg', '0'], ['/content/drive/MyDrive/ERP_imagedata/0/170.jpeg', '0'], ['/content/drive/MyDrive/ERP_imagedata/0/171.jpeg', '0'], ['/content/drive/MyDrive/ERP_imagedata/0/172.jpeg', '0'], ['/content/drive/MyDrive/ERP_imagedata/0/173.jpeg', '0'], ['/content/drive/MyDrive/ERP_imagedata/0/174.jpeg', '0'], ['/content/drive/MyDrive/ERP_imagedata/0/175.jpeg', '0'], ['/content/drive/MyDrive/ERP_imagedata/0/176.jpeg', '0'], ['/content/drive/MyDrive/ERP_imagedata/0/177.jpeg', '0'], ['/content/drive/MyDrive/ERP_imagedata/0/178.jpeg', '0'], ['/content/drive/MyDrive/ERP_imagedata/0/179.jpeg', '0'], ['/content/drive/MyDrive/ERP_imagedata/0/180.jpeg', '0'], ['/content/drive/MyDrive/ERP_imagedata/0/181.jpeg', '0'], ['/content/drive/MyDrive/ERP_imagedata/0/182.jpeg', '0'], ['/content/drive/MyDrive/ERP_imagedata/0/183.jpeg', '0'], ['/content/drive/MyDrive/ERP_imagedata/0/184.jpeg', '0'], ['/content/drive/MyDrive/ERP_imagedata/0/185.jpeg', '0'], ['/content/drive/MyDrive/ERP_imagedata/1/63.jpeg', '1'], ['/content/drive/MyDrive/ERP_imagedata/1/64.jpeg', '1'], ['/content/drive/MyDrive/ERP_imagedata/1/65.jpeg', '1'], ['/content/drive/MyDrive/ERP_imagedata/1/66.jpeg', '1'], ['/content/drive/MyDrive/ERP_imagedata/1/67.jpeg', '1'], ['/content/drive/MyDrive/ERP_imagedata/1/68.jpeg', '1'], ['/content/drive/MyDrive/ERP_imagedata/1/69.jpeg', '1'], ['/content/drive/MyDrive/ERP_imagedata/1/70.jpeg', '1'], ['/content/drive/MyDrive/ERP_imagedata/1/71.jpeg', '1'], ['/content/drive/MyDrive/ERP_imagedata/1/72.jpeg', '1'], ['/content/drive/MyDrive/ERP_imagedata/1/73.jpeg', '1'], ['/content/drive/MyDrive/ERP_imagedata/1/74.jpeg', '1'], ['/content/drive/MyDrive/ERP_imagedata/1/75.jpeg', '1'], ['/content/drive/MyDrive/ERP_imagedata/1/76.jpeg', '1'], ['/content/drive/MyDrive/ERP_imagedata/1/77.jpeg', '1'], ['/content/drive/MyDrive/ERP_imagedata/1/78.jpeg', '1'], ['/content/drive/MyDrive/ERP_imagedata/1/79.jpeg', '1'], ['/content/drive/MyDrive/ERP_imagedata/1/80.jpeg', '1'], ['/content/drive/MyDrive/ERP_imagedata/1/81.jpeg', '1'], ['/content/drive/MyDrive/ERP_imagedata/1/82.jpeg', '1'], ['/content/drive/MyDrive/ERP_imagedata/1/83.jpeg', '1'], ['/content/drive/MyDrive/ERP_imagedata/1/84.jpeg', '1'], ['/content/drive/MyDrive/ERP_imagedata/1/85.jpeg', '1'], ['/content/drive/MyDrive/ERP_imagedata/1/86.jpeg', '1'], ['/content/drive/MyDrive/ERP_imagedata/1/87.jpeg', '1'], ['/content/drive/MyDrive/ERP_imagedata/1/88.jpeg', '1'], ['/content/drive/MyDrive/ERP_imagedata/1/89.jpeg', '1'], ['/content/drive/MyDrive/ERP_imagedata/1/90.jpeg', '1'], ['/content/drive/MyDrive/ERP_imagedata/1/91.jpeg', '1'], ['/content/drive/MyDrive/ERP_imagedata/1/92.jpeg', '1'], ['/content/drive/MyDrive/ERP_imagedata/1/93.jpeg', '1'], ['/content/drive/MyDrive/ERP_imagedata/1/94.jpeg', '1'], ['/content/drive/MyDrive/ERP_imagedata/1/95.jpeg', '1'], ['/content/drive/MyDrive/ERP_imagedata/1/96.jpeg', '1'], ['/content/drive/MyDrive/ERP_imagedata/1/97.jpeg', '1'], ['/content/drive/MyDrive/ERP_imagedata/1/98.jpeg', '1'], ['/content/drive/MyDrive/ERP_imagedata/1/99.jpeg', '1'], ['/content/drive/MyDrive/ERP_imagedata/1/100.jpeg', '1'], ['/content/drive/MyDrive/ERP_imagedata/1/101.jpeg', '1'], ['/content/drive/MyDrive/ERP_imagedata/1/102.jpeg', '1'], ['/content/drive/MyDrive/ERP_imagedata/1/103.jpeg', '1'], ['/content/drive/MyDrive/ERP_imagedata/1/104.jpeg', '1'], ['/content/drive/MyDrive/ERP_imagedata/1/105.jpeg', '1'], ['/content/drive/MyDrive/ERP_imagedata/1/106.jpeg', '1'], ['/content/drive/MyDrive/ERP_imagedata/1/107.jpeg', '1'], ['/content/drive/MyDrive/ERP_imagedata/1/108.jpeg', '1'], ['/content/drive/MyDrive/ERP_imagedata/1/109.jpeg', '1'], ['/content/drive/MyDrive/ERP_imagedata/1/110.jpeg', '1'], ['/content/drive/MyDrive/ERP_imagedata/1/111.jpeg', '1'], ['/content/drive/MyDrive/ERP_imagedata/1/112.jpeg', '1'], ['/content/drive/MyDrive/ERP_imagedata/1/113.jpeg', '1'], ['/content/drive/MyDrive/ERP_imagedata/1/114.jpeg', '1'], ['/content/drive/MyDrive/ERP_imagedata/1/115.jpeg', '1'], ['/content/drive/MyDrive/ERP_imagedata/1/116.jpeg', '1'], ['/content/drive/MyDrive/ERP_imagedata/1/117.jpeg', '1'], ['/content/drive/MyDrive/ERP_imagedata/1/118.jpeg', '1'], ['/content/drive/MyDrive/ERP_imagedata/1/119.jpeg', '1'], ['/content/drive/MyDrive/ERP_imagedata/1/120.jpeg', '1'], ['/content/drive/MyDrive/ERP_imagedata/1/121.jpeg', '1'], ['/content/drive/MyDrive/ERP_imagedata/1/122.jpeg', '1'], ['/content/drive/MyDrive/ERP_imagedata/1/123.jpeg', '1'], ['/content/drive/MyDrive/ERP_imagedata/1/124.jpeg', '1'], ['/content/drive/MyDrive/ERP_imagedata/1/125.jpeg', '1'], ['/content/drive/MyDrive/ERP_imagedata/1/126.jpeg', '1'], ['/content/drive/MyDrive/ERP_imagedata/1/127.jpeg', '1'], ['/content/drive/MyDrive/ERP_imagedata/1/128.jpeg', '1'], ['/content/drive/MyDrive/ERP_imagedata/1/129.jpeg', '1'], ['/content/drive/MyDrive/ERP_imagedata/1/130.jpeg', '1'], ['/content/drive/MyDrive/ERP_imagedata/1/131.jpeg', '1'], ['/content/drive/MyDrive/ERP_imagedata/1/132.jpeg', '1'], ['/content/drive/MyDrive/ERP_imagedata/1/133.jpeg', '1'], ['/content/drive/MyDrive/ERP_imagedata/1/134.jpeg', '1'], ['/content/drive/MyDrive/ERP_imagedata/1/135.jpeg', '1'], ['/content/drive/MyDrive/ERP_imagedata/1/136.jpeg', '1'], ['/content/drive/MyDrive/ERP_imagedata/1/137.jpeg', '1'], ['/content/drive/MyDrive/ERP_imagedata/1/138.jpeg', '1'], ['/content/drive/MyDrive/ERP_imagedata/1/139.jpeg', '1'], ['/content/drive/MyDrive/ERP_imagedata/1/140.jpeg', '1'], ['/content/drive/MyDrive/ERP_imagedata/1/141.jpeg', '1'], ['/content/drive/MyDrive/ERP_imagedata/1/142.jpeg', '1'], ['/content/drive/MyDrive/ERP_imagedata/1/143.jpeg', '1'], ['/content/drive/MyDrive/ERP_imagedata/1/144.jpeg', '1'], ['/content/drive/MyDrive/ERP_imagedata/1/145.jpeg', '1'], ['/content/drive/MyDrive/ERP_imagedata/1/146.jpeg', '1'], ['/content/drive/MyDrive/ERP_imagedata/1/147.jpeg', '1'], ['/content/drive/MyDrive/ERP_imagedata/1/148.jpeg', '1'], ['/content/drive/MyDrive/ERP_imagedata/1/149.jpeg', '1'], ['/content/drive/MyDrive/ERP_imagedata/1/150.jpeg', '1'], ['/content/drive/MyDrive/ERP_imagedata/1/151.jpeg', '1'], ['/content/drive/MyDrive/ERP_imagedata/1/152.jpeg', '1'], ['/content/drive/MyDrive/ERP_imagedata/1/153.jpeg', '1'], ['/content/drive/MyDrive/ERP_imagedata/1/154.jpeg', '1'], ['/content/drive/MyDrive/ERP_imagedata/1/155.jpeg', '1'], ['/content/drive/MyDrive/ERP_imagedata/1/156.jpeg', '1'], ['/content/drive/MyDrive/ERP_imagedata/1/157.jpeg', '1'], ['/content/drive/MyDrive/ERP_imagedata/1/158.jpeg', '1'], ['/content/drive/MyDrive/ERP_imagedata/1/159.jpeg', '1'], ['/content/drive/MyDrive/ERP_imagedata/1/160.jpeg', '1'], ['/content/drive/MyDrive/ERP_imagedata/1/161.jpeg', '1'], ['/content/drive/MyDrive/ERP_imagedata/1/186.jpeg', '1'], ['/content/drive/MyDrive/ERP_imagedata/1/187.jpeg', '1'], ['/content/drive/MyDrive/ERP_imagedata/1/188.jpeg', '1'], ['/content/drive/MyDrive/ERP_imagedata/1/189.jpeg', '1'], ['/content/drive/MyDrive/ERP_imagedata/1/190.jpeg', '1'], ['/content/drive/MyDrive/ERP_imagedata/1/191.jpeg', '1'], ['/content/drive/MyDrive/ERP_imagedata/1/192.jpeg', '1'], ['/content/drive/MyDrive/ERP_imagedata/1/193.jpeg', '1'], ['/content/drive/MyDrive/ERP_imagedata/1/194.jpeg', '1'], ['/content/drive/MyDrive/ERP_imagedata/1/195.jpeg', '1'], ['/content/drive/MyDrive/ERP_imagedata/1/196.jpeg', '1'], ['/content/drive/MyDrive/ERP_imagedata/1/197.jpeg', '1'], ['/content/drive/MyDrive/ERP_imagedata/1/198.jpeg', '1'], ['/content/drive/MyDrive/ERP_imagedata/1/199.jpeg', '1'], ['/content/drive/MyDrive/ERP_imagedata/1/200.jpeg', '1'], ['/content/drive/MyDrive/ERP_imagedata/1/201.jpeg', '1'], ['/content/drive/MyDrive/ERP_imagedata/1/202.jpeg', '1'], ['/content/drive/MyDrive/ERP_imagedata/1/203.jpeg', '1'], ['/content/drive/MyDrive/ERP_imagedata/1/204.jpeg', '1'], ['/content/drive/MyDrive/ERP_imagedata/1/205.jpeg', '1'], ['/content/drive/MyDrive/ERP_imagedata/1/206.jpeg', '1'], ['/content/drive/MyDrive/ERP_imagedata/1/207.jpeg', '1'], ['/content/drive/MyDrive/ERP_imagedata/1/208.jpeg', '1'], ['/content/drive/MyDrive/ERP_imagedata/1/209.jpeg', '1'], ['/content/drive/MyDrive/ERP_imagedata/1/210.jpeg', '1'], ['/content/drive/MyDrive/ERP_imagedata/1/211.jpeg', '1'], ['/content/drive/MyDrive/ERP_imagedata/1/212.jpeg', '1'], ['/content/drive/MyDrive/ERP_imagedata/1/213.jpeg', '1'], ['/content/drive/MyDrive/ERP_imagedata/1/214.jpeg', '1'], ['/content/drive/MyDrive/ERP_imagedata/1/215.jpeg', '1'], ['/content/drive/MyDrive/ERP_imagedata/1/216.jpeg', '1'], ['/content/drive/MyDrive/ERP_imagedata/1/217.jpeg', '1'], ['/content/drive/MyDrive/ERP_imagedata/1/218.jpeg', '1'], ['/content/drive/MyDrive/ERP_imagedata/1/219.jpeg', '1'], ['/content/drive/MyDrive/ERP_imagedata/1/220.jpeg', '1'], ['/content/drive/MyDrive/ERP_imagedata/1/221.jpeg', '1'], ['/content/drive/MyDrive/ERP_imagedata/1/222.jpeg', '1'], ['/content/drive/MyDrive/ERP_imagedata/1/223.jpeg', '1'], ['/content/drive/MyDrive/ERP_imagedata/1/224.jpeg', '1'], ['/content/drive/MyDrive/ERP_imagedata/1/225.jpeg', '1'], ['/content/drive/MyDrive/ERP_imagedata/1/226.jpeg', '1'], ['/content/drive/MyDrive/ERP_imagedata/1/227.jpeg', '1'], ['/content/drive/MyDrive/ERP_imagedata/1/228.jpeg', '1'], ['/content/drive/MyDrive/ERP_imagedata/1/229.jpeg', '1'], ['/content/drive/MyDrive/ERP_imagedata/1/230.jpeg', '1']]\n"
          ]
        }
      ]
    },
    {
      "cell_type": "code",
      "source": [],
      "metadata": {
        "id": "29qK0KgVMGOI"
      },
      "execution_count": null,
      "outputs": []
    },
    {
      "cell_type": "markdown",
      "source": [
        "NN MODEL"
      ],
      "metadata": {
        "id": "GVkhHmG-c2su"
      }
    },
    {
      "cell_type": "code",
      "source": [],
      "metadata": {
        "id": "8JEfCagrMl_N"
      },
      "execution_count": null,
      "outputs": []
    },
    {
      "cell_type": "code",
      "source": [
        "\n",
        "spike_grad = surrogate.fast_sigmoid(slope=20)\n",
        "beta = 0.4\n",
        "\n",
        "lif1 = snn.Leaky(beta=beta, spike_grad=spike_grad)\n"
      ],
      "metadata": {
        "id": "IJs3PHh3MmG7"
      },
      "execution_count": null,
      "outputs": []
    },
    {
      "cell_type": "code",
      "source": [
        "# neuron and simulation parameters\n",
        "spike_grad = surrogate.fast_sigmoid(slope=20)\n",
        "beta = 0.4\n",
        "num_steps = 50\n",
        "batch_size=4"
      ],
      "metadata": {
        "id": "17fR68PpMmKQ"
      },
      "execution_count": null,
      "outputs": []
    },
    {
      "cell_type": "code",
      "source": [
        "data, targets = next(iter(data_loader))\n",
        "data = data.to(device)\n",
        "targets = targets.to(device)\n",
        "# print(data[0].shape)\n",
        "# print(data[0])\n",
        "for step in range(num_steps):\n",
        "    # data = TF.to_tensor(data)\n",
        "    spk_out, mem_out = net(data)"
      ],
      "metadata": {
        "id": "W-EaHcysNcLT"
      },
      "execution_count": null,
      "outputs": []
    },
    {
      "cell_type": "code",
      "source": [
        "def forward_pass(net, num_steps, data):\n",
        "  mem_rec = []\n",
        "  spk_rec = []\n",
        "  utils.reset(net)  # resets hidden states for all LIF neurons in net\n",
        "\n",
        "  for step in range(num_steps):\n",
        "      spk_out, mem_out = net(data)\n",
        "      spk_rec.append(spk_out)\n",
        "      mem_rec.append(mem_out)\n",
        "  \n",
        "  return torch.stack(spk_rec), torch.stack(mem_rec)"
      ],
      "metadata": {
        "id": "QuLMezviNcNv"
      },
      "execution_count": null,
      "outputs": []
    },
    {
      "cell_type": "code",
      "source": [
        "spk_rec, mem_rec = forward_pass(net, num_steps, data)"
      ],
      "metadata": {
        "id": "yHFYUX1JNcQV"
      },
      "execution_count": null,
      "outputs": []
    },
    {
      "cell_type": "code",
      "source": [
        "# already imported snntorch.functional as SF \n",
        "loss_fn = SF.ce_rate_loss()"
      ],
      "metadata": {
        "id": "b2UMyssDNcS4"
      },
      "execution_count": null,
      "outputs": []
    },
    {
      "cell_type": "code",
      "source": [
        "targets = torch.reshape(targets, (-1,))\n",
        "loss_val = loss_fn(spk_rec, targets)\n",
        "\n",
        "print(f\"The loss from an untrained network is {loss_val.item():.3f}\")"
      ],
      "metadata": {
        "colab": {
          "base_uri": "https://localhost:8080/"
        },
        "id": "CfN9LoUiNcVs",
        "outputId": "9b4d409b-b6dc-4ce4-9552-be8a1454e673"
      },
      "execution_count": null,
      "outputs": [
        {
          "output_type": "stream",
          "name": "stdout",
          "text": [
            "The loss from an untrained network is 0.693\n"
          ]
        }
      ]
    },
    {
      "cell_type": "code",
      "source": [
        "acc = SF.accuracy_rate(spk_rec, targets)\n",
        "\n",
        "print(f\"The accuracy of a single batch using an untrained network is {acc*100:.3f}%\")"
      ],
      "metadata": {
        "colab": {
          "base_uri": "https://localhost:8080/"
        },
        "id": "fxd_VWjKTvOD",
        "outputId": "4e194117-a658-46f4-f54a-faf253db6cc9"
      },
      "execution_count": null,
      "outputs": [
        {
          "output_type": "stream",
          "name": "stdout",
          "text": [
            "The accuracy of a single batch using an untrained network is 25.000%\n"
          ]
        }
      ]
    },
    {
      "cell_type": "code",
      "source": [
        "def batch_accuracy(train_loader, net, num_steps):\n",
        "  with torch.no_grad():\n",
        "    total = 0\n",
        "    acc = 0\n",
        "    net.eval()\n",
        "    \n",
        "    train_loader = iter(train_loader)\n",
        "    for data, targets in train_loader:\n",
        "      data = data.to(device)\n",
        "      targets = targets.to(device)\n",
        "      spk_rec, _ = forward_pass(net, num_steps, data)\n",
        "\n",
        "      acc += SF.accuracy_rate(spk_rec, targets) * spk_rec.size(1)\n",
        "      total += spk_rec.size(1)\n",
        "\n",
        "  return acc/total"
      ],
      "metadata": {
        "id": "1F4s0RE5MmSH"
      },
      "execution_count": null,
      "outputs": []
    },
    {
      "cell_type": "code",
      "source": [
        "optimizer = torch.optim.Adam(net.parameters(), lr=1e-2, betas=(0.9, 0.999))\n",
        "num_epochs = 1\n",
        "loss_hist = []\n",
        "test_acc_hist = []\n",
        "counter = 0\n",
        "\n",
        "# Outer training loop\n",
        "for epoch in range(num_epochs):\n",
        "\n",
        "    # Training loop\n",
        "    for data, targets in iter(data_loader):\n",
        "        data = data.to(device)\n",
        "        targets = targets.to(device)\n",
        "\n",
        "        # forward pass\n",
        "        net.train()\n",
        "        spk_rec, _ = forward_pass(net, num_steps, data)\n",
        "        # print(targets.shape)\n",
        "        targets = torch.reshape(targets, (-1,))\n",
        "        # initialize the loss & sum over time\n",
        "        loss_val = loss_fn(spk_rec, targets)\n",
        "\n",
        "        # Gradient calculation + weight update\n",
        "        optimizer.zero_grad()\n",
        "        loss_val.backward()\n",
        "        optimizer.step()\n",
        "\n",
        "        # Store loss history for future plotting\n",
        "        loss_hist.append(loss_val.item())\n",
        "\n",
        "        # Test set\n",
        "        if counter % 50 == 0:\n",
        "          with torch.no_grad():\n",
        "              net.eval()\n",
        "\n",
        "              # Test set forward pass\n",
        "              test_acc = batch_accuracy(data_loader, net, num_steps)\n",
        "              print(f\"Iteration {counter}, Test Acc: {test_acc * 100:.2f}%\\n\")\n",
        "              test_acc_hist.append(test_acc.item())\n",
        "\n",
        "        counter += 1"
      ],
      "metadata": {
        "id": "l0prach2T0P9"
      },
      "execution_count": null,
      "outputs": []
    },
    {
      "cell_type": "code",
      "source": [
        "# Plot Loss\n",
        "fig = plt.figure(facecolor=\"w\")\n",
        "plt.plot(test_acc_hist)\n",
        "plt.title(\"Test Set Accuracy\")\n",
        "plt.xlabel(\"Epoch\")\n",
        "plt.ylabel(\"Accuracy\")\n",
        "plt.show()"
      ],
      "metadata": {
        "id": "lFCm9D3dT0St"
      },
      "execution_count": null,
      "outputs": []
    },
    {
      "cell_type": "code",
      "source": [],
      "metadata": {
        "id": "AgOSmqy9T0WM"
      },
      "execution_count": null,
      "outputs": []
    },
    {
      "cell_type": "code",
      "source": [],
      "metadata": {
        "id": "0XNOHsNFT0ZA"
      },
      "execution_count": null,
      "outputs": []
    },
    {
      "cell_type": "code",
      "source": [
        "\n",
        "class NetNN(nn.Module):\n",
        "    def __init__(self):\n",
        "        super().__init__()\n",
        "        beta = 0.5  # neuron decay rate\n",
        "        spike_grad = surrogate.fast_sigmoid() # surrogate gradient\n",
        "        self.conv1 = nn.Conv2d(1, 2, (9,48))\n",
        "        self.pool = nn.MaxPool2d(2, 2)\n",
        "        self.conv2 = nn.Conv2d(2, 1, 1)\n",
        "        self.fc1 = nn.Linear(3025, 64)\n",
        "        self.fc2 = nn.Linear(64, 32)\n",
        "        self.fc3 = nn.Linear(32, 2)\n",
        "\n",
        "    def forward(self, x):\n",
        "        x = self.conv1(x)\n",
        "        x = F.relu(x)\n",
        "        # print(x.shape)\n",
        "        x = self.conv2(x)\n",
        "        # print(x.shape)\n",
        "        x = F.relu(x)\n",
        "        # print(x.shape)\n",
        "        x = torch.flatten(x, 1) # flatten all dimensions except batch\n",
        "        # print(x.shape)\n",
        "        x = self.fc1(x)\n",
        "        # print(x.shape)\n",
        "        x = F.relu(x)\n",
        "        # print(x.shape)\n",
        "        x = self.fc2(x)\n",
        "        x = F.relu(x)\n",
        "        # print(x.shape)\n",
        "        x = self.fc3(x)\n",
        "        # x = self.spike_out(x)\n",
        "        # print(x.shape)\n",
        "        return x\n",
        "\n",
        "net = NetNN()\n",
        "net"
      ],
      "metadata": {
        "colab": {
          "base_uri": "https://localhost:8080/"
        },
        "id": "sSI-NXzD-EJM",
        "outputId": "3a2afdf8-36df-400b-e2a6-642f9354b637"
      },
      "execution_count": null,
      "outputs": [
        {
          "output_type": "execute_result",
          "data": {
            "text/plain": [
              "NetNN(\n",
              "  (conv1): Conv2d(1, 2, kernel_size=(9, 48), stride=(1, 1))\n",
              "  (pool): MaxPool2d(kernel_size=2, stride=2, padding=0, dilation=1, ceil_mode=False)\n",
              "  (conv2): Conv2d(2, 1, kernel_size=(1, 1), stride=(1, 1))\n",
              "  (fc1): Linear(in_features=3025, out_features=64, bias=True)\n",
              "  (fc2): Linear(in_features=64, out_features=32, bias=True)\n",
              "  (fc3): Linear(in_features=32, out_features=2, bias=True)\n",
              ")"
            ]
          },
          "metadata": {},
          "execution_count": 59
        }
      ]
    },
    {
      "cell_type": "code",
      "source": [
        "def train(data_x, data_y, X_test, y_test, learning_rate, n_epochs):\n",
        "\n",
        "    device = \"cpu\"\n",
        "    print(f\"Using {device} device\")\n",
        "    model = NetNN().to(device)\n",
        "    print(\"MODEL:\", model)\n",
        "\n",
        "    loss_function = nn.CrossEntropyLoss()\n",
        "    optimizer = torch.optim.NAdam(model.parameters(), lr=learning_rate)\n",
        "\n",
        "    losses = []\n",
        "    for epoch in range(n_epochs):\n",
        "        correct, accuracy = 0, 0\n",
        "        pred_y = model(data_x)\n",
        "        print(type(pred_y), type(data_y))\n",
        "        loss = loss_function(pred_y, data_y)\n",
        "        losses.append(loss.item())\n",
        "\n",
        "        model.zero_grad()\n",
        "        loss.backward()\n",
        "        optimizer.step()\n",
        "\n",
        "        # _, predicted = torch.max(pred_y.data, 1)\n",
        "        # print(pred_y.argmax(dim=1), data_y.argmax(dim=1))\n",
        "        # print(pred_y, data_y)\n",
        "        correct += (pred_y.argmax(dim=1) == data_y.argmax(dim=1)).float().sum()\n",
        "\n",
        "        print(\"\\nEpoch:\", epoch)\n",
        "        accuracy = 100 * correct / len(data_y)\n",
        "        print(\"Train:\")\n",
        "        print(\"Accuracy = {}\".format(accuracy))\n",
        "        print(\"Loss = \", loss.item())\n",
        "\n",
        "        test(model, X_test, y_test)\n",
        "\n",
        "        if accuracy>95:\n",
        "            break\n",
        "        if epoch%10 == 0:\n",
        "            learning_rate = learning_rate/0.01\n",
        "            optimizer.param_groups[0]['lr'] = learning_rate\n",
        "\n",
        "    return model, losses\n",
        "\n",
        "def test(model, X_test, y_test):\n",
        "    pred_y = model(X_test)\n",
        "    loss_function = nn.CrossEntropyLoss()\n",
        "\n",
        "    print(type(pred_y), type(y_test))\n",
        "    loss = loss_function(pred_y, y_test)\n",
        "\n",
        "    correct = (pred_y.argmax(dim=1) == y_test.argmax(dim=1)).float().sum()\n",
        "\n",
        "    accuracy = 100 * correct / len(X_test)\n",
        "    print(\"Test:\")\n",
        "    print(\"Accuracy = {}\".format(accuracy))\n",
        "    print(\"Loss = \", loss.item())"
      ],
      "metadata": {
        "id": "PrFzb9eRczeU"
      },
      "execution_count": null,
      "outputs": []
    },
    {
      "cell_type": "code",
      "source": [
        "def test(model, X_test, y_test):\n",
        "    pred_y = model(X_test)\n",
        "    loss_function = nn.CrossEntropyLoss()\n",
        "\n",
        "    print(type(pred_y), type(y_test))\n",
        "    loss = loss_function(pred_y, y_test)\n",
        "\n",
        "    correct = (pred_y.argmax(dim=1) == y_test.argmax(dim=1)).float().sum()\n",
        "\n",
        "    accuracy = 100 * correct / len(X_test)\n",
        "    print(\"Accuracy = {}\".format(accuracy))\n",
        "    print(\"Loss = \", loss.item())\n"
      ],
      "metadata": {
        "id": "CpCEMebuczjr"
      },
      "execution_count": null,
      "outputs": []
    },
    {
      "cell_type": "code",
      "source": [
        "test(modelNN_1, X_test, y_test.float())"
      ],
      "metadata": {
        "colab": {
          "base_uri": "https://localhost:8080/"
        },
        "id": "6lefDLTjhBVm",
        "outputId": "c2186df0-8c02-4686-a34a-af9376fea56e"
      },
      "execution_count": null,
      "outputs": [
        {
          "output_type": "stream",
          "name": "stdout",
          "text": [
            "<class 'torch.Tensor'> <class 'torch.Tensor'>\n",
            "Accuracy = 55.319149017333984\n",
            "Loss =  2.657017469406128\n"
          ]
        }
      ]
    },
    {
      "cell_type": "code",
      "source": [],
      "metadata": {
        "id": "i3t5sKFbhBYx"
      },
      "execution_count": null,
      "outputs": []
    },
    {
      "cell_type": "markdown",
      "source": [
        "SNN MODEL"
      ],
      "metadata": {
        "id": "qats8bkXcz29"
      }
    },
    {
      "cell_type": "code",
      "source": [
        "\n",
        "class Net(nn.Module):\n",
        "    def __init__(self):\n",
        "        super().__init__()\n",
        "        beta = 0.5  # neuron decay rate\n",
        "        spike_grad = surrogate.fast_sigmoid() # surrogate gradient\n",
        "        self.conv1 = nn.Conv2d(1, 2, (9,1536))\n",
        "        self.pool = nn.MaxPool2d(2, 2)\n",
        "        self.conv2 = nn.Conv2d(2, 1, 1)\n",
        "        self.fc1 = nn.Linear(3074, 1537)\n",
        "        self.fc2 = nn.Linear(1537, 1537)\n",
        "        self.fc3 = nn.Linear(1537, 2)\n",
        "        self.spike = snn.Leaky(beta=beta, init_hidden=True, spike_grad=spike_grad)\n",
        "        self.spike_out = snn.Leaky(beta=beta, init_hidden=True, spike_grad=spike_grad, output=True)\n",
        "\n",
        "    def forward(self, x):\n",
        "        x = self.conv1(x)\n",
        "        x = self.spike(x)\n",
        "        print(x.shape)\n",
        "        x = self.conv2(x)\n",
        "        print(x.shape)\n",
        "        x = self.spike(x)\n",
        "        print(x.shape)\n",
        "        x = torch.flatten(x, 1) # flatten all dimensions except batch\n",
        "        x = self.fc1(x)\n",
        "        print(x.shape)\n",
        "        x = self.spike(x)\n",
        "        print(x.shape)\n",
        "        x = self.fc2(x)\n",
        "        x = self.spike(x)\n",
        "        print(x.shape)\n",
        "        x = self.fc3(x)\n",
        "        # x = self.spike_out(x)\n",
        "        print(x.shape)\n",
        "        return x\n",
        "\n",
        "net = Net()\n",
        "\n",
        "import torch.optim as optim\n",
        "\n",
        "criterion = nn.CrossEntropyLoss()\n",
        "optimizer = optim.SGD(net.parameters(), lr=0.001, momentum=0.9)\n"
      ],
      "metadata": {
        "id": "1krfa0i98Z-t"
      },
      "execution_count": null,
      "outputs": []
    },
    {
      "cell_type": "code",
      "source": [
        "def train(data_x, data_y, learning_rate, n_epochs):\n",
        "\n",
        "    device = \"cuda\" if torch.cuda.is_available() else \"cpu\"\n",
        "    print(f\"Using {device} device\")\n",
        "    model = Net().to(device)\n",
        "    print(\"MODEL:\", model)\n",
        "\n",
        "    loss_function = nn.MSELoss()\n",
        "    optimizer = torch.optim.Adam(model.parameters(), lr=learning_rate)\n",
        "\n",
        "    losses = []\n",
        "    for epoch in range(n_epochs):\n",
        "        correct, accuracy = 0, 0\n",
        "        pred_y = model(data_x)\n",
        "        print(type(pred_y), type(data_y))\n",
        "        loss = loss_function(pred_y, data_y)\n",
        "        losses.append(loss.item())\n",
        "\n",
        "        model.zero_grad()\n",
        "        loss.backward()\n",
        "        optimizer.step()\n",
        "\n",
        "        # _, predicted = torch.max(pred_y.data, 1)\n",
        "        # print(pred_y.argmax(dim=1), data_y.argmax(dim=1))\n",
        "        print(pred_y, data_y)\n",
        "        correct += (pred_y.argmax(dim=1) == data_y.argmax(dim=1)).float().sum()\n",
        "\n",
        "        print(\"\\nEpoch:\", epoch)\n",
        "        accuracy = 100 * correct / len(data_y)\n",
        "        print(\"Accuracy = {}\".format(accuracy))\n",
        "        print(\"Loss = \", loss.item())\n",
        "\n",
        "        if epoch%10 == 0:\n",
        "            learning_rate = learning_rate/0.01\n",
        "\n",
        "    return model, losses"
      ],
      "metadata": {
        "id": "uMYoJV3b8d4_"
      },
      "execution_count": null,
      "outputs": []
    },
    {
      "cell_type": "code",
      "source": [
        "model1, losses1 = train(X_train, y_train.float(), 0.01, 200)"
      ],
      "metadata": {
        "colab": {
          "base_uri": "https://localhost:8080/",
          "height": 1000
        },
        "id": "RVhGqu29-WyJ",
        "outputId": "8ab79251-fbe8-4890-d8bc-d1f112083fa2"
      },
      "execution_count": null,
      "outputs": [
        {
          "output_type": "stream",
          "name": "stdout",
          "text": [
            "Using cuda device\n",
            "MODEL: Net(\n",
            "  (conv1): Conv2d(1, 2, kernel_size=(9, 1536), stride=(1, 1))\n",
            "  (pool): MaxPool2d(kernel_size=2, stride=2, padding=0, dilation=1, ceil_mode=False)\n",
            "  (conv2): Conv2d(2, 1, kernel_size=(1, 1), stride=(1, 1))\n",
            "  (fc1): Linear(in_features=3074, out_features=1537, bias=True)\n",
            "  (fc2): Linear(in_features=1537, out_features=1537, bias=True)\n",
            "  (fc3): Linear(in_features=1537, out_features=2, bias=True)\n",
            "  (spike): Leaky()\n",
            "  (spike_out): Leaky()\n",
            ")\n",
            "torch.Size([184, 2, 1, 1537])\n",
            "torch.Size([184, 1, 1, 1537])\n",
            "torch.Size([184, 2, 1, 1537])\n",
            "torch.Size([184, 1537])\n",
            "torch.Size([184, 2, 184, 1537])\n"
          ]
        },
        {
          "output_type": "error",
          "ename": "OutOfMemoryError",
          "evalue": "ignored",
          "traceback": [
            "\u001b[0;31m---------------------------------------------------------------------------\u001b[0m",
            "\u001b[0;31mOutOfMemoryError\u001b[0m                          Traceback (most recent call last)",
            "\u001b[0;32m<ipython-input-36-876abfce592e>\u001b[0m in \u001b[0;36m<module>\u001b[0;34m\u001b[0m\n\u001b[0;32m----> 1\u001b[0;31m \u001b[0mmodel1\u001b[0m\u001b[0;34m,\u001b[0m \u001b[0mlosses1\u001b[0m \u001b[0;34m=\u001b[0m \u001b[0mtrain\u001b[0m\u001b[0;34m(\u001b[0m\u001b[0mX_train\u001b[0m\u001b[0;34m,\u001b[0m \u001b[0my_train\u001b[0m\u001b[0;34m.\u001b[0m\u001b[0mfloat\u001b[0m\u001b[0;34m(\u001b[0m\u001b[0;34m)\u001b[0m\u001b[0;34m,\u001b[0m \u001b[0;36m0.01\u001b[0m\u001b[0;34m,\u001b[0m \u001b[0;36m200\u001b[0m\u001b[0;34m)\u001b[0m\u001b[0;34m\u001b[0m\u001b[0;34m\u001b[0m\u001b[0m\n\u001b[0m",
            "\u001b[0;32m<ipython-input-35-72d8b751f9b1>\u001b[0m in \u001b[0;36mtrain\u001b[0;34m(data_x, data_y, learning_rate, n_epochs)\u001b[0m\n\u001b[1;32m     12\u001b[0m     \u001b[0;32mfor\u001b[0m \u001b[0mepoch\u001b[0m \u001b[0;32min\u001b[0m \u001b[0mrange\u001b[0m\u001b[0;34m(\u001b[0m\u001b[0mn_epochs\u001b[0m\u001b[0;34m)\u001b[0m\u001b[0;34m:\u001b[0m\u001b[0;34m\u001b[0m\u001b[0;34m\u001b[0m\u001b[0m\n\u001b[1;32m     13\u001b[0m         \u001b[0mcorrect\u001b[0m\u001b[0;34m,\u001b[0m \u001b[0maccuracy\u001b[0m \u001b[0;34m=\u001b[0m \u001b[0;36m0\u001b[0m\u001b[0;34m,\u001b[0m \u001b[0;36m0\u001b[0m\u001b[0;34m\u001b[0m\u001b[0;34m\u001b[0m\u001b[0m\n\u001b[0;32m---> 14\u001b[0;31m         \u001b[0mpred_y\u001b[0m \u001b[0;34m=\u001b[0m \u001b[0mmodel\u001b[0m\u001b[0;34m(\u001b[0m\u001b[0mdata_x\u001b[0m\u001b[0;34m)\u001b[0m\u001b[0;34m\u001b[0m\u001b[0;34m\u001b[0m\u001b[0m\n\u001b[0m\u001b[1;32m     15\u001b[0m         \u001b[0mprint\u001b[0m\u001b[0;34m(\u001b[0m\u001b[0mtype\u001b[0m\u001b[0;34m(\u001b[0m\u001b[0mpred_y\u001b[0m\u001b[0;34m)\u001b[0m\u001b[0;34m,\u001b[0m \u001b[0mtype\u001b[0m\u001b[0;34m(\u001b[0m\u001b[0mdata_y\u001b[0m\u001b[0;34m)\u001b[0m\u001b[0;34m)\u001b[0m\u001b[0;34m\u001b[0m\u001b[0;34m\u001b[0m\u001b[0m\n\u001b[1;32m     16\u001b[0m         \u001b[0mloss\u001b[0m \u001b[0;34m=\u001b[0m \u001b[0mloss_function\u001b[0m\u001b[0;34m(\u001b[0m\u001b[0mpred_y\u001b[0m\u001b[0;34m,\u001b[0m \u001b[0mdata_y\u001b[0m\u001b[0;34m)\u001b[0m\u001b[0;34m\u001b[0m\u001b[0;34m\u001b[0m\u001b[0m\n",
            "\u001b[0;32m/usr/local/lib/python3.9/dist-packages/torch/nn/modules/module.py\u001b[0m in \u001b[0;36m_call_impl\u001b[0;34m(self, *input, **kwargs)\u001b[0m\n\u001b[1;32m   1192\u001b[0m         if not (self._backward_hooks or self._forward_hooks or self._forward_pre_hooks or _global_backward_hooks\n\u001b[1;32m   1193\u001b[0m                 or _global_forward_hooks or _global_forward_pre_hooks):\n\u001b[0;32m-> 1194\u001b[0;31m             \u001b[0;32mreturn\u001b[0m \u001b[0mforward_call\u001b[0m\u001b[0;34m(\u001b[0m\u001b[0;34m*\u001b[0m\u001b[0minput\u001b[0m\u001b[0;34m,\u001b[0m \u001b[0;34m**\u001b[0m\u001b[0mkwargs\u001b[0m\u001b[0;34m)\u001b[0m\u001b[0;34m\u001b[0m\u001b[0;34m\u001b[0m\u001b[0m\n\u001b[0m\u001b[1;32m   1195\u001b[0m         \u001b[0;31m# Do not call functions when jit is used\u001b[0m\u001b[0;34m\u001b[0m\u001b[0;34m\u001b[0m\u001b[0m\n\u001b[1;32m   1196\u001b[0m         \u001b[0mfull_backward_hooks\u001b[0m\u001b[0;34m,\u001b[0m \u001b[0mnon_full_backward_hooks\u001b[0m \u001b[0;34m=\u001b[0m \u001b[0;34m[\u001b[0m\u001b[0;34m]\u001b[0m\u001b[0;34m,\u001b[0m \u001b[0;34m[\u001b[0m\u001b[0;34m]\u001b[0m\u001b[0;34m\u001b[0m\u001b[0;34m\u001b[0m\u001b[0m\n",
            "\u001b[0;32m<ipython-input-32-83661daf9e49>\u001b[0m in \u001b[0;36mforward\u001b[0;34m(self, x)\u001b[0m\n\u001b[1;32m     27\u001b[0m         \u001b[0mprint\u001b[0m\u001b[0;34m(\u001b[0m\u001b[0mx\u001b[0m\u001b[0;34m.\u001b[0m\u001b[0mshape\u001b[0m\u001b[0;34m)\u001b[0m\u001b[0;34m\u001b[0m\u001b[0;34m\u001b[0m\u001b[0m\n\u001b[1;32m     28\u001b[0m         \u001b[0mx\u001b[0m \u001b[0;34m=\u001b[0m \u001b[0mself\u001b[0m\u001b[0;34m.\u001b[0m\u001b[0mfc2\u001b[0m\u001b[0;34m(\u001b[0m\u001b[0mx\u001b[0m\u001b[0;34m)\u001b[0m\u001b[0;34m\u001b[0m\u001b[0;34m\u001b[0m\u001b[0m\n\u001b[0;32m---> 29\u001b[0;31m         \u001b[0mx\u001b[0m \u001b[0;34m=\u001b[0m \u001b[0mself\u001b[0m\u001b[0;34m.\u001b[0m\u001b[0mspike\u001b[0m\u001b[0;34m(\u001b[0m\u001b[0mx\u001b[0m\u001b[0;34m)\u001b[0m\u001b[0;34m\u001b[0m\u001b[0;34m\u001b[0m\u001b[0m\n\u001b[0m\u001b[1;32m     30\u001b[0m         \u001b[0mprint\u001b[0m\u001b[0;34m(\u001b[0m\u001b[0mx\u001b[0m\u001b[0;34m.\u001b[0m\u001b[0mshape\u001b[0m\u001b[0;34m)\u001b[0m\u001b[0;34m\u001b[0m\u001b[0;34m\u001b[0m\u001b[0m\n\u001b[1;32m     31\u001b[0m         \u001b[0mx\u001b[0m \u001b[0;34m=\u001b[0m \u001b[0mself\u001b[0m\u001b[0;34m.\u001b[0m\u001b[0mfc3\u001b[0m\u001b[0;34m(\u001b[0m\u001b[0mx\u001b[0m\u001b[0;34m)\u001b[0m\u001b[0;34m\u001b[0m\u001b[0;34m\u001b[0m\u001b[0m\n",
            "\u001b[0;32m/usr/local/lib/python3.9/dist-packages/torch/nn/modules/module.py\u001b[0m in \u001b[0;36m_call_impl\u001b[0;34m(self, *input, **kwargs)\u001b[0m\n\u001b[1;32m   1192\u001b[0m         if not (self._backward_hooks or self._forward_hooks or self._forward_pre_hooks or _global_backward_hooks\n\u001b[1;32m   1193\u001b[0m                 or _global_forward_hooks or _global_forward_pre_hooks):\n\u001b[0;32m-> 1194\u001b[0;31m             \u001b[0;32mreturn\u001b[0m \u001b[0mforward_call\u001b[0m\u001b[0;34m(\u001b[0m\u001b[0;34m*\u001b[0m\u001b[0minput\u001b[0m\u001b[0;34m,\u001b[0m \u001b[0;34m**\u001b[0m\u001b[0mkwargs\u001b[0m\u001b[0;34m)\u001b[0m\u001b[0;34m\u001b[0m\u001b[0;34m\u001b[0m\u001b[0m\n\u001b[0m\u001b[1;32m   1195\u001b[0m         \u001b[0;31m# Do not call functions when jit is used\u001b[0m\u001b[0;34m\u001b[0m\u001b[0;34m\u001b[0m\u001b[0m\n\u001b[1;32m   1196\u001b[0m         \u001b[0mfull_backward_hooks\u001b[0m\u001b[0;34m,\u001b[0m \u001b[0mnon_full_backward_hooks\u001b[0m \u001b[0;34m=\u001b[0m \u001b[0;34m[\u001b[0m\u001b[0;34m]\u001b[0m\u001b[0;34m,\u001b[0m \u001b[0;34m[\u001b[0m\u001b[0;34m]\u001b[0m\u001b[0;34m\u001b[0m\u001b[0;34m\u001b[0m\u001b[0m\n",
            "\u001b[0;32m/usr/local/lib/python3.9/dist-packages/snntorch/_neurons/leaky.py\u001b[0m in \u001b[0;36mforward\u001b[0;34m(self, input_, mem)\u001b[0m\n\u001b[1;32m    185\u001b[0m             \u001b[0mself\u001b[0m\u001b[0;34m.\u001b[0m\u001b[0m_leaky_forward_cases\u001b[0m\u001b[0;34m(\u001b[0m\u001b[0mmem\u001b[0m\u001b[0;34m)\u001b[0m\u001b[0;34m\u001b[0m\u001b[0;34m\u001b[0m\u001b[0m\n\u001b[1;32m    186\u001b[0m             \u001b[0mself\u001b[0m\u001b[0;34m.\u001b[0m\u001b[0mreset\u001b[0m \u001b[0;34m=\u001b[0m \u001b[0mself\u001b[0m\u001b[0;34m.\u001b[0m\u001b[0mmem_reset\u001b[0m\u001b[0;34m(\u001b[0m\u001b[0mself\u001b[0m\u001b[0;34m.\u001b[0m\u001b[0mmem\u001b[0m\u001b[0;34m)\u001b[0m\u001b[0;34m\u001b[0m\u001b[0;34m\u001b[0m\u001b[0m\n\u001b[0;32m--> 187\u001b[0;31m             \u001b[0mself\u001b[0m\u001b[0;34m.\u001b[0m\u001b[0mmem\u001b[0m \u001b[0;34m=\u001b[0m \u001b[0mself\u001b[0m\u001b[0;34m.\u001b[0m\u001b[0m_build_state_function_hidden\u001b[0m\u001b[0;34m(\u001b[0m\u001b[0minput_\u001b[0m\u001b[0;34m)\u001b[0m\u001b[0;34m\u001b[0m\u001b[0;34m\u001b[0m\u001b[0m\n\u001b[0m\u001b[1;32m    188\u001b[0m \u001b[0;34m\u001b[0m\u001b[0m\n\u001b[1;32m    189\u001b[0m             \u001b[0;32mif\u001b[0m \u001b[0mself\u001b[0m\u001b[0;34m.\u001b[0m\u001b[0mstate_quant\u001b[0m\u001b[0;34m:\u001b[0m\u001b[0;34m\u001b[0m\u001b[0;34m\u001b[0m\u001b[0m\n",
            "\u001b[0;32m/usr/local/lib/python3.9/dist-packages/snntorch/_neurons/leaky.py\u001b[0m in \u001b[0;36m_build_state_function_hidden\u001b[0;34m(self, input_)\u001b[0m\n\u001b[1;32m    224\u001b[0m         \u001b[0;32mif\u001b[0m \u001b[0mself\u001b[0m\u001b[0;34m.\u001b[0m\u001b[0mreset_mechanism_val\u001b[0m \u001b[0;34m==\u001b[0m \u001b[0;36m0\u001b[0m\u001b[0;34m:\u001b[0m  \u001b[0;31m# reset by subtraction\u001b[0m\u001b[0;34m\u001b[0m\u001b[0;34m\u001b[0m\u001b[0m\n\u001b[1;32m    225\u001b[0m             state_fn = (\n\u001b[0;32m--> 226\u001b[0;31m                 \u001b[0mself\u001b[0m\u001b[0;34m.\u001b[0m\u001b[0m_base_state_function_hidden\u001b[0m\u001b[0;34m(\u001b[0m\u001b[0minput_\u001b[0m\u001b[0;34m)\u001b[0m\u001b[0;34m\u001b[0m\u001b[0;34m\u001b[0m\u001b[0m\n\u001b[0m\u001b[1;32m    227\u001b[0m                 \u001b[0;34m-\u001b[0m \u001b[0mself\u001b[0m\u001b[0;34m.\u001b[0m\u001b[0mreset\u001b[0m \u001b[0;34m*\u001b[0m \u001b[0mself\u001b[0m\u001b[0;34m.\u001b[0m\u001b[0mthreshold\u001b[0m\u001b[0;34m\u001b[0m\u001b[0;34m\u001b[0m\u001b[0m\n\u001b[1;32m    228\u001b[0m             )\n",
            "\u001b[0;31mOutOfMemoryError\u001b[0m: CUDA out of memory. Tried to allocate 398.00 MiB (GPU 0; 14.75 GiB total capacity; 13.28 GiB already allocated; 306.81 MiB free; 13.37 GiB reserved in total by PyTorch) If reserved memory is >> allocated memory try setting max_split_size_mb to avoid fragmentation.  See documentation for Memory Management and PYTORCH_CUDA_ALLOC_CONF"
          ]
        }
      ]
    },
    {
      "cell_type": "code",
      "source": [
        "\n",
        "python3.__version__"
      ],
      "metadata": {
        "colab": {
          "base_uri": "https://localhost:8080/",
          "height": 165
        },
        "id": "b0Tp5APE-YfI",
        "outputId": "bd9c77c7-0e91-4504-dbf4-09b2ef2b0ca9"
      },
      "execution_count": null,
      "outputs": [
        {
          "output_type": "error",
          "ename": "NameError",
          "evalue": "ignored",
          "traceback": [
            "\u001b[0;31m---------------------------------------------------------------------------\u001b[0m",
            "\u001b[0;31mNameError\u001b[0m                                 Traceback (most recent call last)",
            "\u001b[0;32m<ipython-input-3-cd8ef756a1b1>\u001b[0m in \u001b[0;36m<module>\u001b[0;34m\u001b[0m\n\u001b[0;32m----> 1\u001b[0;31m \u001b[0mpython3\u001b[0m\u001b[0;34m.\u001b[0m\u001b[0m__version__\u001b[0m\u001b[0;34m\u001b[0m\u001b[0;34m\u001b[0m\u001b[0m\n\u001b[0m",
            "\u001b[0;31mNameError\u001b[0m: name 'python3' is not defined"
          ]
        }
      ]
    },
    {
      "cell_type": "code",
      "source": [],
      "metadata": {
        "id": "-bqLHizeBVQg"
      },
      "execution_count": null,
      "outputs": []
    },
    {
      "cell_type": "code",
      "source": [],
      "metadata": {
        "id": "B7FNMoETr5_-"
      },
      "execution_count": null,
      "outputs": []
    },
    {
      "cell_type": "code",
      "source": [],
      "metadata": {
        "id": "QMzmw1-Ir6Dc"
      },
      "execution_count": null,
      "outputs": []
    },
    {
      "cell_type": "markdown",
      "source": [
        "ERP+DEMOGRAPHICS"
      ],
      "metadata": {
        "id": "zrZ5tynlr6Sr"
      }
    },
    {
      "cell_type": "code",
      "source": [],
      "metadata": {
        "id": "2TmHYJAOr8YW"
      },
      "execution_count": null,
      "outputs": []
    },
    {
      "cell_type": "code",
      "source": [
        "\n",
        "class NetNN_comb(nn.Module):\n",
        "    def __init__(self):\n",
        "        super().__init__()\n",
        "        beta = 0.5  # neuron decay rate\n",
        "        spike_grad = surrogate.fast_sigmoid() # surrogate gradient\n",
        "        self.conv1 = nn.Conv2d(1, 2, (9,48))\n",
        "        self.pool = nn.MaxPool2d(2, 2)\n",
        "        self.conv2 = nn.Conv2d(2, 1, 1)\n",
        "        self.fc1 = nn.Linear(3025, 64)\n",
        "        self.fc2 = nn.Linear(64, 32)\n",
        "        self.fc3 = nn.Linear(32, 2)\n",
        "        self.fc1_d = nn.Linear(3,3) \n",
        "        self.fc2_d = nn.Linear(3,3)\n",
        "        self.fc3_D = nn.Linear(3,2)\n",
        "\n",
        "    def forward(self, x, d):\n",
        "        x = self.conv1(x)\n",
        "        x = F.relu(x)\n",
        "        x = self.conv2(x)\n",
        "        x = F.relu(x)\n",
        "        x = torch.flatten(x, 1) # flatten all dimensions except batch\n",
        "\n",
        "        d = F.relu(self.fc1_d(d))\n",
        "        d = F.relu(self.fc2_d(d))\n",
        "\n",
        "        x = torch.cat((x,d),1)\n",
        "        \n",
        "        x = self.fc1(x)\n",
        "        x = F.relu(x)\n",
        "        x = self.fc2(x)\n",
        "        x = F.relu(x)\n",
        "        x = self.fc3(x)\n",
        "        return x\n",
        "\n",
        "net = NetNN_comb()\n",
        "net"
      ],
      "metadata": {
        "colab": {
          "base_uri": "https://localhost:8080/"
        },
        "id": "GJiMy6a1r_6l",
        "outputId": "c6a2a85d-5c92-430f-ae13-520bd3d8edf7"
      },
      "execution_count": null,
      "outputs": [
        {
          "output_type": "execute_result",
          "data": {
            "text/plain": [
              "NetNN_comb(\n",
              "  (conv1): Conv2d(1, 2, kernel_size=(9, 48), stride=(1, 1))\n",
              "  (pool): MaxPool2d(kernel_size=2, stride=2, padding=0, dilation=1, ceil_mode=False)\n",
              "  (conv2): Conv2d(2, 1, kernel_size=(1, 1), stride=(1, 1))\n",
              "  (fc1): Linear(in_features=3025, out_features=64, bias=True)\n",
              "  (fc2): Linear(in_features=64, out_features=32, bias=True)\n",
              "  (fc3): Linear(in_features=32, out_features=2, bias=True)\n",
              "  (fc1_d): Linear(in_features=3, out_features=3, bias=True)\n",
              "  (fc2_d): Linear(in_features=3, out_features=3, bias=True)\n",
              "  (fc3_D): Linear(in_features=3, out_features=2, bias=True)\n",
              ")"
            ]
          },
          "metadata": {},
          "execution_count": 80
        }
      ]
    },
    {
      "cell_type": "code",
      "source": [
        "class Net(nn.Module):\n",
        "    def __init__(self):\n",
        "        super().__init__()\n",
        "        beta = 0.5  # neuron decay rate\n",
        "        spike_grad = surrogate.fast_sigmoid() # surrogate gradient\n",
        "        self.conv1 = nn.Conv2d(1, 2, (9,1536))\n",
        "        self.pool = nn.MaxPool2d(2, 2)\n",
        "        self.conv2 = nn.Conv2d(2, 1, 1)\n",
        "        self.fc1 = nn.Linear(3074, 1537)\n",
        "        self.fc2 = nn.Linear(1537, 1537)\n",
        "        self.fc3 = nn.Linear(1537, 2)\n",
        "        self.fc1_d = nn.Linear(3,3) \n",
        "        self.fc2_d = nn.Linear(3,3)\n",
        "        self.spike = snn.Leaky(beta=beta, init_hidden=True, spike_grad=spike_grad)\n",
        "        self.spike_out = snn.Leaky(beta=beta, init_hidden=True, spike_grad=spike_grad, output=True)\n",
        "\n",
        "    def forward(self, x):\n",
        "        x = self.conv1(x)\n",
        "        x = self.spike(x)\n",
        "        x = self.conv2(x)\n",
        "        x = self.spike(x)\n",
        "        x = torch.flatten(x, 1) # flatten all dimensions except batch\n",
        "        d = F.relu(self.fc1_d(d))\n",
        "        d = F.relu(self.fc2_d(d))\n",
        "        x = torch.cat((x,d),1)\n",
        "        x = self.fc1(x)\n",
        "        x = self.spike(x)\n",
        "        x = self.fc2(x)\n",
        "        x = self.spike(x)\n",
        "        x = self.fc3(x)\n",
        "        x = self.spike_out(x)\n",
        "        return x\n",
        "\n",
        "net = Net()\n"
      ],
      "metadata": {
        "id": "Wov_6OVtuBpd"
      },
      "execution_count": null,
      "outputs": []
    },
    {
      "cell_type": "code",
      "source": [
        "net"
      ],
      "metadata": {
        "colab": {
          "base_uri": "https://localhost:8080/"
        },
        "id": "UZTXwQnz7GhK",
        "outputId": "006d37b6-96d4-408e-cf26-3bef3cbf54e0"
      },
      "execution_count": null,
      "outputs": [
        {
          "output_type": "execute_result",
          "data": {
            "text/plain": [
              "Net(\n",
              "  (conv1): Conv2d(1, 2, kernel_size=(9, 1536), stride=(1, 1))\n",
              "  (pool): MaxPool2d(kernel_size=2, stride=2, padding=0, dilation=1, ceil_mode=False)\n",
              "  (conv2): Conv2d(2, 1, kernel_size=(1, 1), stride=(1, 1))\n",
              "  (fc1): Linear(in_features=3074, out_features=1537, bias=True)\n",
              "  (fc2): Linear(in_features=1537, out_features=1537, bias=True)\n",
              "  (fc3): Linear(in_features=1537, out_features=2, bias=True)\n",
              "  (fc1_d): Linear(in_features=3, out_features=3, bias=True)\n",
              "  (fc2_d): Linear(in_features=3, out_features=3, bias=True)\n",
              "  (spike): Leaky()\n",
              "  (spike_out): Leaky()\n",
              ")"
            ]
          },
          "metadata": {},
          "execution_count": 5
        }
      ]
    },
    {
      "cell_type": "code",
      "source": [
        "def train(data_x, data_demo, data_y, X_test, y_test, learning_rate, n_epochs):\n",
        "\n",
        "    device = \"cpu\"\n",
        "    print(f\"Using {device} device\")\n",
        "    model = NetNN().to(device)\n",
        "    print(\"MODEL:\", model)\n",
        "\n",
        "    loss_function = nn.CrossEntropyLoss()\n",
        "    optimizer = torch.optim.NAdam(model.parameters(), lr=learning_rate)\n",
        "\n",
        "    losses = []\n",
        "    for epoch in range(n_epochs):\n",
        "        correct, accuracy = 0, 0\n",
        "        pred_y = model(data_x, data_demo)\n",
        "        print(type(pred_y), type(data_y))\n",
        "        loss = loss_function(pred_y, data_y)\n",
        "        losses.append(loss.item())\n",
        "\n",
        "        model.zero_grad()\n",
        "        loss.backward()\n",
        "        optimizer.step()\n",
        "\n",
        "        # _, predicted = torch.max(pred_y.data, 1)\n",
        "        # print(pred_y.argmax(dim=1), data_y.argmax(dim=1))\n",
        "        # print(pred_y, data_y)\n",
        "        correct += (pred_y.argmax(dim=1) == data_y.argmax(dim=1)).float().sum()\n",
        "\n",
        "        print(\"\\nEpoch:\", epoch)\n",
        "        accuracy = 100 * correct / len(data_y)\n",
        "        print(\"Train:\")\n",
        "        print(\"Accuracy = {}\".format(accuracy))\n",
        "        print(\"Loss = \", loss.item())\n",
        "\n",
        "        test(model, X_test, y_test)\n",
        "\n",
        "        if accuracy>95:\n",
        "            break\n",
        "        if epoch%10 == 0:\n",
        "            learning_rate = learning_rate/0.01\n",
        "            optimizer.param_groups[0]['lr'] = learning_rate\n",
        "\n",
        "    return model, losses\n",
        "\n",
        "def test(model, X_test, y_test):\n",
        "    pred_y = model(X_test)\n",
        "    loss_function = nn.CrossEntropyLoss()\n",
        "\n",
        "    print(type(pred_y), type(y_test))\n",
        "    loss = loss_function(pred_y, y_test)\n",
        "\n",
        "    correct = (pred_y.argmax(dim=1) == y_test.argmax(dim=1)).float().sum()\n",
        "\n",
        "    accuracy = 100 * correct / len(X_test)\n",
        "    print(\"Test:\")\n",
        "    print(\"Accuracy = {}\".format(accuracy))\n",
        "    print(\"Loss = \", loss.item())"
      ],
      "metadata": {
        "id": "ATZqz4eG8T3w"
      },
      "execution_count": null,
      "outputs": []
    },
    {
      "cell_type": "code",
      "source": [
        "modelNN_1, lossesNN_1 = train(X_train, y_train.float(), X_test, y_test.float(), 0.001, 200)\n"
      ],
      "metadata": {
        "colab": {
          "base_uri": "https://localhost:8080/"
        },
        "id": "KvaGHc-sCPUj",
        "outputId": "d2fc621a-6c2e-41b7-a26f-c48138e40d79"
      },
      "execution_count": null,
      "outputs": [
        {
          "output_type": "stream",
          "name": "stdout",
          "text": [
            "\n",
            "Epoch: 0\n",
            "Train:\n",
            "Accuracy = 76.08695983886719\n",
            "Loss =  0.4417681396007538\n",
            "<class 'torch.Tensor'> <class 'torch.Tensor'>\n",
            "Test:\n",
            "Accuracy = 68.0851058959961\n",
            "Loss =  0.0615653944015503\n",
            "<class 'torch.Tensor'> <class 'torch.Tensor'>\n",
            "\n",
            "Epoch: 1\n",
            "Train:\n",
            "Accuracy = 78.43478393554688\n",
            "Loss =  0.43978118896484375\n",
            "<class 'torch.Tensor'> <class 'torch.Tensor'>\n",
            "Test:\n",
            "Accuracy = 70.2127685546875\n",
            "Loss =  0.0760687098503113\n",
            "<class 'torch.Tensor'> <class 'torch.Tensor'>\n",
            "\n",
            "Epoch: 2\n",
            "Train:\n",
            "Accuracy = 77.82608795166016\n",
            "Loss =  0.2674464464187622\n",
            "<class 'torch.Tensor'> <class 'torch.Tensor'>\n",
            "Test:\n",
            "Accuracy = 71.446807861328125\n",
            "Loss =  0.0758897476196289\n",
            "<class 'torch.Tensor'> <class 'torch.Tensor'>\n",
            "\n",
            "Epoch: 3\n",
            "Train:\n",
            "Accuracy = 79.34782409667969\n",
            "Loss =  0.0499589717388153\n",
            "<class 'torch.Tensor'> <class 'torch.Tensor'>\n",
            "Test:\n",
            "Accuracy = 73.82978820800781\n",
            "Loss =  0.0905491137504578\n",
            "<class 'torch.Tensor'> <class 'torch.Tensor'>\n",
            "\n",
            "Epoch: 4\n",
            "Train:\n",
            "Accuracy = 69.02173614501953\n",
            "Loss =  0.09313334703445435\n",
            "<class 'torch.Tensor'> <class 'torch.Tensor'>\n",
            "Test:\n",
            "Accuracy = 68.0851058959961\n",
            "Loss =  0.0825000047683716\n",
            "<class 'torch.Tensor'> <class 'torch.Tensor'>\n",
            "\n",
            "Epoch: 5\n",
            "Train:\n",
            "Accuracy = 79.89130401611328\n",
            "Loss =  0.04515164613723755\n",
            "<class 'torch.Tensor'> <class 'torch.Tensor'>\n",
            "Test:\n",
            "Accuracy = 74.46808624267578\n",
            "Loss =  0.0630729746818542\n",
            "<class 'torch.Tensor'> <class 'torch.Tensor'>\n",
            "\n",
            "Epoch: 6\n",
            "Train:\n",
            "Accuracy = 79.34782409667969\n",
            "Loss =  0.04311726927757263\n",
            "<class 'torch.Tensor'> <class 'torch.Tensor'>\n",
            "Test:\n",
            "Accuracy = 75.2127685546875\n",
            "Loss =  0.0756471109390259\n",
            "<class 'torch.Tensor'> <class 'torch.Tensor'>\n",
            "\n",
            "Epoch: 7\n",
            "Train:\n",
            "Accuracy = 80.97826385498047\n",
            "Loss =  0.03861737909317017\n",
            "<class 'torch.Tensor'> <class 'torch.Tensor'>\n",
            "Test:\n",
            "Accuracy = 76.46808624267578\n",
            "Loss =  0.0756721258163452\n",
            "<class 'torch.Tensor'> <class 'torch.Tensor'>\n",
            "\n",
            "Epoch: 8\n",
            "Train:\n",
            "Accuracy = 82.06521606445312\n",
            "Loss =  0.03282437086105347\n",
            "<class 'torch.Tensor'> <class 'torch.Tensor'>\n",
            "Test:\n",
            "Accuracy = 80.2127685546875\n",
            "Loss =  0.0740962195396423\n",
            "<class 'torch.Tensor'> <class 'torch.Tensor'>\n",
            "\n",
            "Epoch: 9\n",
            "Train:\n",
            "Accuracy = 82.60869598388672\n",
            "Loss =  0.0361334433555603\n",
            "<class 'torch.Tensor'> <class 'torch.Tensor'>\n",
            "Test:\n",
            "Accuracy = 80.46808624267578\n",
            "Loss =  0.0643580436706543\n",
            "<class 'torch.Tensor'> <class 'torch.Tensor'>\n",
            "\n",
            "Epoch: 10\n",
            "Train:\n",
            "Accuracy = 82.60869598388672\n",
            "Loss =  0.03515155577659607\n",
            "<class 'torch.Tensor'> <class 'torch.Tensor'>\n",
            "Test:\n",
            "Accuracy = 80.2127685546875\n",
            "Loss =  0.0710130715370178\n",
            "<class 'torch.Tensor'> <class 'torch.Tensor'>\n",
            "\n",
            "Epoch: 11\n",
            "Train:\n",
            "Accuracy = 83.6363639831543\n",
            "Loss =  0.03235085308551788\n",
            "<class 'torch.Tensor'> <class 'torch.Tensor'>\n",
            "Test:\n",
            "Accuracy = 84.0\n",
            "Loss =  0.06263586282730102\n",
            "<class 'torch.Tensor'> <class 'torch.Tensor'>\n",
            "\n",
            "Epoch: 12\n",
            "Train:\n",
            "Accuracy = 82.60869598388672\n",
            "Loss =  0.0367285430431366\n",
            "<class 'torch.Tensor'> <class 'torch.Tensor'>\n",
            "Test:\n",
            "Accuracy = 81.70212936401367\n",
            "Loss =  0.8409569263458252\n",
            "<class 'torch.Tensor'> <class 'torch.Tensor'>\n",
            "\n",
            "Epoch: 13\n",
            "Train:\n",
            "Accuracy = 86.41304016113281\n",
            "Loss =  0.03578157210350037\n",
            "<class 'torch.Tensor'> <class 'torch.Tensor'>\n",
            "Test:\n",
            "Accuracy = 75.82978820800781\n",
            "Loss =  0.1541926622390747\n",
            "<class 'torch.Tensor'> <class 'torch.Tensor'>\n",
            "\n"
          ]
        }
      ]
    },
    {
      "cell_type": "code",
      "source": [
        "torch.save(modelNN_1.state_dict(), 'erp_training_model')"
      ],
      "metadata": {
        "id": "VO4tTRmcCnG3"
      },
      "execution_count": null,
      "outputs": []
    },
    {
      "cell_type": "code",
      "source": [
        "actual = y_test\n",
        "actual"
      ],
      "metadata": {
        "colab": {
          "base_uri": "https://localhost:8080/"
        },
        "id": "2F7E7dGLIfdb",
        "outputId": "d01c948d-efb3-4b84-ee76-2ef707330ed9"
      },
      "execution_count": null,
      "outputs": [
        {
          "output_type": "execute_result",
          "data": {
            "text/plain": [
              "array([0, 0, 1, 0, 1, 0, 1, 1, 1, 1, 1, 1, 1, 1, 1, 0, 1, 1, 1, 0, 1, 0,\n",
              "       1, 1, 1, 0, 1, 1, 0, 1, 1, 1, 1, 0, 1, 1, 1, 1, 1, 1, 1, 1, 0, 0,\n",
              "       1, 1, 1, 1, 1, 1, 0, 0, 1, 1, 1, 1, 0, 1, 1, 1, 1, 1, 0, 0, 0, 1,\n",
              "       1, 0, 1, 1, 0, 1, 1, 0, 0, 1, 1, 1, 1, 1, 0, 0, 1, 0, 1, 0, 0, 1,\n",
              "       1, 1, 1, 1, 1, 1, 1, 1, 1, 0, 1, 0, 1, 1, 1, 1, 0, 0, 1, 0, 0, 1,\n",
              "       0, 1, 0, 1, 1, 1, 0, 1, 1, 0, 1, 1, 1, 1, 0, 1, 1, 1, 0, 0, 0, 1,\n",
              "       1, 1, 1, 1, 1, 1, 0, 1, 1, 1, 1, 1, 0, 0, 1, 0, 1, 0, 1, 0, 1, 1,\n",
              "       1, 1, 1, 1, 1, 1, 1, 1, 1, 1, 1, 1, 0, 1, 1, 1, 1, 0, 1, 1, 0, 0,\n",
              "       1, 1, 1, 1, 0, 0, 1, 1, 0, 1, 1, 1, 1, 1, 0, 1, 0, 1, 1, 0, 1, 1,\n",
              "       1, 1, 1, 1, 0, 1, 1, 0, 1, 1, 1, 1, 0, 1, 1, 1, 1, 1, 1, 1, 1, 1,\n",
              "       1, 1, 1, 1, 0, 0, 0, 1, 1, 1, 1])"
            ]
          },
          "metadata": {},
          "execution_count": 9
        }
      ]
    },
    {
      "cell_type": "code",
      "source": [
        "predicted = modelNN_1.predict(X_test)\n",
        "predicted"
      ],
      "metadata": {
        "colab": {
          "base_uri": "https://localhost:8080/"
        },
        "id": "T8_FfVr0IfgN",
        "outputId": "b416ab7f-a57e-4aa1-c2e3-2fc812fd3698"
      },
      "execution_count": null,
      "outputs": [
        {
          "output_type": "execute_result",
          "data": {
            "text/plain": [
              "array([0, 0, 1, 0, 1, 1, 1, 1, 1, 1, 1, 1, 1, 1, 1, 1, 1, 1, 1, 0, 1, 0,\n",
              "       0, 0, 1, 0, 1, 1, 0, 1, 1, 1, 1, 1, 1, 1, 1, 1, 1, 1, 1, 1, 1, 0,\n",
              "       0, 0, 1, 1, 1, 1, 0, 0, 1, 1, 1, 1, 0, 1, 1, 1, 1, 1, 0, 0, 1, 0,\n",
              "       1, 0, 1, 1, 0, 1, 1, 0, 1, 1, 1, 1, 1, 1, 1, 1, 1, 1, 1, 0, 1, 0,\n",
              "       1, 1, 1, 1, 1, 1, 1, 1, 1, 0, 1, 0, 1, 1, 1, 1, 1, 1, 1, 0, 1, 0,\n",
              "       0, 1, 0, 1, 1, 1, 0, 1, 1, 0, 1, 1, 1, 1, 0, 1, 1, 1, 0, 0, 1, 0,\n",
              "       1, 1, 1, 1, 1, 1, 0, 1, 1, 1, 1, 1, 0, 0, 1, 0, 1, 0, 1, 0, 1, 0,\n",
              "       1, 1, 1, 1, 1, 1, 1, 1, 1, 0, 1, 1, 0, 1, 1, 1, 1, 0, 1, 1, 1, 1,\n",
              "       1, 1, 1, 1, 0, 0, 1, 1, 0, 0, 1, 1, 1, 1, 0, 1, 0, 1, 1, 0, 1, 1,\n",
              "       1, 1, 1, 1, 0, 1, 1, 0, 1, 0, 1, 1, 0, 1, 1, 1, 1, 1, 1, 1, 1, 1,\n",
              "       1, 1, 1, 1, 1, 1, 1, 1, 1, 1, 1])"
            ]
          },
          "metadata": {},
          "execution_count": 10
        }
      ]
    },
    {
      "cell_type": "code",
      "source": [
        "import matplotlib.pyplot as plt\n",
        "import numpy\n",
        "from sklearn import metrics\n",
        "\n",
        "confusion_matrix = metrics.confusion_matrix(actual, predicted)\n",
        "\n",
        "cm_display = metrics.ConfusionMatrixDisplay(confusion_matrix = confusion_matrix, display_labels = [False, True])\n",
        "\n",
        "cm_display.plot()\n",
        "plt.show()"
      ],
      "metadata": {
        "colab": {
          "base_uri": "https://localhost:8080/",
          "height": 449
        },
        "id": "BnD-dWWzIfia",
        "outputId": "62c396e9-fb86-4290-a67a-decb55f46230"
      },
      "execution_count": null,
      "outputs": [
        {
          "output_type": "display_data",
          "data": {
            "text/plain": [
              "<Figure size 640x480 with 2 Axes>"
            ],
            "image/png": "[encoded data removed]"
          },
          "metadata": {}
        }
      ]
    },
    {
      "cell_type": "code",
      "source": [],
      "metadata": {
        "id": "qplokTHMIflk"
      },
      "execution_count": null,
      "outputs": []
    },
    {
      "cell_type": "code",
      "source": [],
      "metadata": {
        "id": "7E-sCjrlIfod"
      },
      "execution_count": null,
      "outputs": []
    },
    {
      "cell_type": "code",
      "source": [],
      "metadata": {
        "id": "iIHR37SbIfq7"
      },
      "execution_count": null,
      "outputs": []
    },
    {
      "cell_type": "code",
      "source": [],
      "metadata": {
        "id": "CcF_amq0IfuU"
      },
      "execution_count": null,
      "outputs": []
    },
    {
      "cell_type": "code",
      "source": [],
      "metadata": {
        "id": "H0IEThZ9IfxL"
      },
      "execution_count": null,
      "outputs": []
    },
    {
      "cell_type": "code",
      "source": [],
      "metadata": {
        "id": "-8V6g79pIf0K"
      },
      "execution_count": null,
      "outputs": []
    },
    {
      "cell_type": "code",
      "source": [],
      "metadata": {
        "id": "L7pYKreCIf2_"
      },
      "execution_count": null,
      "outputs": []
    },
    {
      "cell_type": "code",
      "source": [],
      "metadata": {
        "id": "kFOXh3tRIf6Q"
      },
      "execution_count": null,
      "outputs": []
    },
    {
      "cell_type": "code",
      "source": [
        "Epoch: 0\n",
        "Train:\n",
        "Accuracy = 76.08695983886719\n",
        "Loss =  0.4417681396007538\n",
        "<class 'torch.Tensor'> <class 'torch.Tensor'>\n",
        "Test:\n",
        "Accuracy = 68.0851058959961\n",
        "Loss =  0.0615653944015503\n",
        "<class 'torch.Tensor'> <class 'torch.Tensor'>\n",
        "\n",
        "Epoch: 1\n",
        "Train:\n",
        "Accuracy = 78.43478393554688\n",
        "Loss =  0.43978118896484375\n",
        "<class 'torch.Tensor'> <class 'torch.Tensor'>\n",
        "Test:\n",
        "Accuracy = 70.2127685546875\n",
        "Loss =  0.0760687098503113\n",
        "<class 'torch.Tensor'> <class 'torch.Tensor'>\n",
        "\n",
        "Epoch: 2\n",
        "Train:\n",
        "Accuracy = 77.82608795166016\n",
        "Loss =  0.2674464464187622\n",
        "<class 'torch.Tensor'> <class 'torch.Tensor'>\n",
        "Test:\n",
        "Accuracy = 71.446807861328125\n",
        "Loss =  0.0758897476196289\n",
        "<class 'torch.Tensor'> <class 'torch.Tensor'>\n",
        "\n",
        "Epoch: 3\n",
        "Train:\n",
        "Accuracy = 79.34782409667969\n",
        "Loss =  0.0499589717388153\n",
        "<class 'torch.Tensor'> <class 'torch.Tensor'>\n",
        "Test:\n",
        "Accuracy = 73.82978820800781\n",
        "Loss =  0.0905491137504578\n",
        "<class 'torch.Tensor'> <class 'torch.Tensor'>\n",
        "\n",
        "Epoch: 4\n",
        "Train:\n",
        "Accuracy = 69.02173614501953\n",
        "Loss =  0.09313334703445435\n",
        "<class 'torch.Tensor'> <class 'torch.Tensor'>\n",
        "Test:\n",
        "Accuracy = 68.0851058959961\n",
        "Loss =  0.0825000047683716\n",
        "<class 'torch.Tensor'> <class 'torch.Tensor'>\n",
        "\n",
        "Epoch: 5\n",
        "Train:\n",
        "Accuracy = 79.89130401611328\n",
        "Loss =  0.04515164613723755\n",
        "<class 'torch.Tensor'> <class 'torch.Tensor'>\n",
        "Test:\n",
        "Accuracy = 74.46808624267578\n",
        "Loss =  0.0630729746818542\n",
        "<class 'torch.Tensor'> <class 'torch.Tensor'>\n",
        "\n",
        "Epoch: 6\n",
        "Train:\n",
        "Accuracy = 79.34782409667969\n",
        "Loss =  0.04311726927757263\n",
        "<class 'torch.Tensor'> <class 'torch.Tensor'>\n",
        "Test:\n",
        "Accuracy = 75.2127685546875\n",
        "Loss =  0.0756471109390259\n",
        "<class 'torch.Tensor'> <class 'torch.Tensor'>\n",
        "\n",
        "Epoch: 7\n",
        "Train:\n",
        "Accuracy = 80.97826385498047\n",
        "Loss =  0.03861737909317017\n",
        "<class 'torch.Tensor'> <class 'torch.Tensor'>\n",
        "Test:\n",
        "Accuracy = 76.46808624267578\n",
        "Loss =  0.0756721258163452\n",
        "<class 'torch.Tensor'> <class 'torch.Tensor'>\n",
        "\n",
        "Epoch: 8\n",
        "Train:\n",
        "Accuracy = 82.06521606445312\n",
        "Loss =  0.03282437086105347\n",
        "<class 'torch.Tensor'> <class 'torch.Tensor'>\n",
        "Test:\n",
        "Accuracy = 80.2127685546875\n",
        "Loss =  0.0740962195396423\n",
        "<class 'torch.Tensor'> <class 'torch.Tensor'>\n",
        "\n",
        "Epoch: 9\n",
        "Train:\n",
        "Accuracy = 82.60869598388672\n",
        "Loss =  0.0361334433555603\n",
        "<class 'torch.Tensor'> <class 'torch.Tensor'>\n",
        "Test:\n",
        "Accuracy = 80.46808624267578\n",
        "Loss =  0.0643580436706543\n",
        "<class 'torch.Tensor'> <class 'torch.Tensor'>\n",
        "\n",
        "Epoch: 10\n",
        "Train:\n",
        "Accuracy = 82.60869598388672\n",
        "Loss =  0.03515155577659607\n",
        "<class 'torch.Tensor'> <class 'torch.Tensor'>\n",
        "Test:\n",
        "Accuracy = 80.2127685546875\n",
        "Loss =  0.0710130715370178\n",
        "<class 'torch.Tensor'> <class 'torch.Tensor'>\n",
        "\n",
        "Epoch: 11\n",
        "Train:\n",
        "Accuracy = 83.6363639831543\n",
        "Loss =  0.03235085308551788\n",
        "<class 'torch.Tensor'> <class 'torch.Tensor'>\n",
        "Test:\n",
        "Accuracy = 84.0\n",
        "Loss =  0.06263586282730102\n",
        "<class 'torch.Tensor'> <class 'torch.Tensor'>\n",
        "\n",
        "Epoch: 12\n",
        "Train:\n",
        "Accuracy = 82.60869598388672\n",
        "Loss =  0.0367285430431366\n",
        "<class 'torch.Tensor'> <class 'torch.Tensor'>\n",
        "Test:\n",
        "Accuracy = 81.70212936401367\n",
        "Loss =  0.8409569263458252\n",
        "<class 'torch.Tensor'> <class 'torch.Tensor'>\n",
        "\n",
        "Epoch: 13\n",
        "Train:\n",
        "Accuracy = 86.41304016113281\n",
        "Loss =  0.03578157210350037\n",
        "<class 'torch.Tensor'> <class 'torch.Tensor'>\n",
        "Test:\n",
        "Accuracy = 75.82978820800781\n",
        "Loss =  0.1541926622390747\n",
        "<class 'torch.Tensor'> <class 'torch.Tensor'>"
      ],
      "metadata": {
        "id": "KQSMuUyTIf9N"
      },
      "execution_count": null,
      "outputs": []
    }
  ]
}